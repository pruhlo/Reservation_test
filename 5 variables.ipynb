{
 "cells": [
  {
   "cell_type": "code",
   "execution_count": 1,
   "id": "3ac0fa23",
   "metadata": {},
   "outputs": [],
   "source": [
    "import pandas as pd\n",
    "import warnings\n",
    "warnings.filterwarnings('ignore')\n",
    "\n",
    "import numpy as np  \n",
    "import xgboost as xgb\n",
    "from xgboost.sklearn import XGBClassifier  \n",
    "from sklearn.model_selection import GridSearchCV,cross_val_score  \n",
    "from sklearn import  metrics  \n",
    "import matplotlib.pylab as plt\n",
    "from sklearn.model_selection import train_test_split\n",
    "from sklearn.metrics import precision_score, recall_score, accuracy_score\n",
    "import itertools"
   ]
  },
  {
   "cell_type": "code",
   "execution_count": 2,
   "id": "15aa3935",
   "metadata": {},
   "outputs": [],
   "source": [
    "df = pd.read_excel('d_f_feature.xlsx', index_col=0)"
   ]
  },
  {
   "cell_type": "code",
   "execution_count": 3,
   "id": "48b6a22f",
   "metadata": {},
   "outputs": [],
   "source": [
    "invalid_columns = ['request_date_time', 'flight_number', 'pickup_date_time', 'return_date_time',\n",
    "                   'company_car_class_code', 'detail_car_class_code', 'campaign']\n",
    "X = df.drop(['booking_status']+invalid_columns, axis=1)\n",
    "y = df['booking_status']"
   ]
  },
  {
   "cell_type": "code",
   "execution_count": 4,
   "id": "6cafd954",
   "metadata": {},
   "outputs": [],
   "source": [
    "feature = list(set(df.columns) - set(df[invalid_columns]))"
   ]
  },
  {
   "cell_type": "code",
   "execution_count": null,
   "id": "a4d60567",
   "metadata": {},
   "outputs": [
    {
     "name": "stdout",
     "output_type": "stream",
     "text": [
      "========================================================================================\n",
      "i=(' Full disclaimer compensation (disclaimer compensation plus subscription required, no customer burden) x 1', 'coupon', 'high_temp', 'number_of_children', 'cancel_fee'), precision=0.1916317991631799, recall=0.1916317991631799, accuracy=0.1916317991631799\n",
      "========================================================================================\n",
      "i=(' Full disclaimer compensation (disclaimer compensation plus subscription required, no customer burden) x 1', 'coupon', 'high_temp', 'number_of_children', 'basic_price'), precision=0.200836820083682, recall=0.200836820083682, accuracy=0.200836820083682\n",
      "========================================================================================\n",
      "i=(' Full disclaimer compensation (disclaimer compensation plus subscription required, no customer burden) x 1', 'coupon', 'high_temp', 'number_of_children', ' Junior seat x 2'), precision=0.20334728033472804, recall=0.20334728033472804, accuracy=0.20334728033472804\n",
      "========================================================================================\n",
      "i=(' Full disclaimer compensation (disclaimer compensation plus subscription required, no customer burden) x 1', 'coupon', 'high_temp', 'number_of_children', 'Child seat x 1'), precision=0.21171548117154812, recall=0.21171548117154812, accuracy=0.21171548117154812\n",
      "========================================================================================\n",
      "i=(' Full disclaimer compensation (disclaimer compensation plus subscription required, no customer burden) x 1', 'coupon', 'high_temp', 'number_of_children', 'price_per_adult_per_hour'), precision=0.2125523012552301, recall=0.2125523012552301, accuracy=0.2125523012552301\n",
      "========================================================================================\n",
      "i=(' Full disclaimer compensation (disclaimer compensation plus subscription required, no customer burden) x 1', 'coupon', 'high_temp', 'cancel_fee', 'options_total_fee'), precision=0.21673640167364017, recall=0.21673640167364017, accuracy=0.21673640167364017\n",
      "========================================================================================\n",
      "i=(' Full disclaimer compensation (disclaimer compensation plus subscription required, no customer burden) x 1', 'coupon', 'high_temp', 'cancel_fee', 'from_request_to_pickup'), precision=0.2175732217573222, recall=0.2175732217573222, accuracy=0.2175732217573222\n",
      "========================================================================================\n",
      "i=(' Full disclaimer compensation (disclaimer compensation plus subscription required, no customer burden) x 1', 'coupon', 'high_temp', ' Junior seat x 2', 'Car navigation campaign x 1.1'), precision=0.2200836820083682, recall=0.2200836820083682, accuracy=0.2200836820083682\n",
      "========================================================================================\n",
      "i=(' Full disclaimer compensation (disclaimer compensation plus subscription required, no customer burden) x 1', 'coupon', 'number_of_children', 'Non-smoking car x 1.1', 'options_total_fee'), precision=0.22259414225941423, recall=0.22259414225941423, accuracy=0.22259414225941423\n",
      "========================================================================================\n",
      "i=(' Full disclaimer compensation (disclaimer compensation plus subscription required, no customer burden) x 1', 'coupon', 'number_of_children', 'Car navigation campaign x 1.1', 'amount_per_person'), precision=0.22510460251046024, recall=0.22510460251046024, accuracy=0.22510460251046024\n",
      "========================================================================================\n",
      "i=(' Full disclaimer compensation (disclaimer compensation plus subscription required, no customer burden) x 1', 'coupon', 'cancel_fee', 'Plan with exemption compensation plus (NOC Exemption) x 1', 'rental_duration'), precision=0.22594142259414227, recall=0.22594142259414227, accuracy=0.22594142259414227\n",
      "========================================================================================\n",
      "i=(' Full disclaimer compensation (disclaimer compensation plus subscription required, no customer burden) x 1', 'coupon', 'basic_price', 'number_of_adult', 'Non-smoking car x 1'), precision=0.2317991631799163, recall=0.2317991631799163, accuracy=0.2317991631799163\n",
      "========================================================================================\n",
      "i=(' Full disclaimer compensation (disclaimer compensation plus subscription required, no customer burden) x 1', 'coupon', 'Smoking car x 1', 'ETC card x 1', 'cost_per_hour_total'), precision=0.23347280334728032, recall=0.23347280334728032, accuracy=0.23347280334728032\n",
      "========================================================================================\n",
      "i=(' Full disclaimer compensation (disclaimer compensation plus subscription required, no customer burden) x 1', 'high_temp', 'Car navigation campaign x 1', 'namber_of_passengers', 'options_total_fee'), precision=0.23430962343096234, recall=0.23430962343096234, accuracy=0.23430962343096234\n",
      "========================================================================================\n",
      "i=('coupon', 'Disclaimer plan x 1', 'Car navigation campaign x 1.1', 'Full exemption compensation plan (full compensation) x 1', 'rental_duration'), precision=0.2410041841004184, recall=0.2410041841004184, accuracy=0.2410041841004184\n"
     ]
    }
   ],
   "source": [
    "d = {'features':None, 'precision':0, 'recall':0}\n",
    "for i in itertools.combinations(feature, 5):\n",
    "    X = df[list(i)]\n",
    "    X_train, X_test, y_train, y_test = train_test_split(X, y, test_size=0.3)\n",
    "    xgb0 = XGBClassifier(learning_rate=0.1, nthread=-1) # nthread=-1\n",
    "    xgb0.fit(X_train, y_train, )\n",
    "    preds = xgb0.predict(X_test)\n",
    "    best_preds = np.asarray([np.argmax(line) for line in preds])\n",
    "    precision = precision_score(y_test, best_preds, average='micro', zero_division=0)\n",
    "    recall = recall_score(y_test, best_preds, average='micro')\n",
    "    accuracy = accuracy_score(y_test, best_preds)\n",
    "    \n",
    "    if precision > d['precision']:\n",
    "        d['features'] = i\n",
    "        d['precision'] = precision\n",
    "        d['recall'] = recall\n",
    "        d['accuracy'] = accuracy\n",
    "        print('========================================================================================')\n",
    "        print(f'{i=}, {precision=}, {recall=}, {accuracy=}')\n",
    "    else:\n",
    "        pass"
   ]
  },
  {
   "cell_type": "markdown",
   "id": "638f9351",
   "metadata": {},
   "source": [
    "i=('coupon', 'Disclaimer plan x 1', 'Car navigation campaign x 1.1', 'Full exemption compensation plan (full compensation) x 1', 'rental_duration'), precision=0.2410041841004184, recall=0.2410041841004184, accuracy=0.2410041841004184"
   ]
  }
 ],
 "metadata": {
  "kernelspec": {
   "display_name": "Python 3 (ipykernel)",
   "language": "python",
   "name": "python3"
  },
  "language_info": {
   "codemirror_mode": {
    "name": "ipython",
    "version": 3
   },
   "file_extension": ".py",
   "mimetype": "text/x-python",
   "name": "python",
   "nbconvert_exporter": "python",
   "pygments_lexer": "ipython3",
   "version": "3.10.5"
  }
 },
 "nbformat": 4,
 "nbformat_minor": 5
}
