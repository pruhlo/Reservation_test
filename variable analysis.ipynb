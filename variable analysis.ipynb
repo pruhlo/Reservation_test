{
 "cells": [
  {
   "cell_type": "markdown",
   "id": "745c126b",
   "metadata": {},
   "source": [
    "# Завдання\n",
    "Побудова моделі прогнозування щоденної кількості броньованих автомобілів без скасування на період січень 2019 року – лютий 2019 року."
   ]
  },
  {
   "cell_type": "code",
   "execution_count": 1,
   "id": "c9f57f09",
   "metadata": {},
   "outputs": [],
   "source": [
    "import pandas as pd\n",
    "import warnings\n",
    "warnings.filterwarnings('ignore')\n",
    "\n",
    "import os\n",
    "import matplotlib.pyplot as plt\n",
    "import statsmodels.api as sm\n",
    "from translate import Translator"
   ]
  },
  {
   "cell_type": "markdown",
   "id": "33bb8b87",
   "metadata": {},
   "source": [
    "# Завантажемо опис до колонок"
   ]
  },
  {
   "cell_type": "code",
   "execution_count": 2,
   "id": "8578fccc",
   "metadata": {},
   "outputs": [
    {
     "data": {
      "text/html": [
       "<div>\n",
       "<style scoped>\n",
       "    .dataframe tbody tr th:only-of-type {\n",
       "        vertical-align: middle;\n",
       "    }\n",
       "\n",
       "    .dataframe tbody tr th {\n",
       "        vertical-align: top;\n",
       "    }\n",
       "\n",
       "    .dataframe thead th {\n",
       "        text-align: right;\n",
       "    }\n",
       "</style>\n",
       "<table border=\"1\" class=\"dataframe\">\n",
       "  <thead>\n",
       "    <tr style=\"text-align: right;\">\n",
       "      <th></th>\n",
       "      <th>Unnamed: 0</th>\n",
       "      <th>Table</th>\n",
       "      <th>Row(JP)</th>\n",
       "      <th>Row(EN)</th>\n",
       "      <th>Description</th>\n",
       "    </tr>\n",
       "  </thead>\n",
       "  <tbody>\n",
       "    <tr>\n",
       "      <th>0</th>\n",
       "      <td>1</td>\n",
       "      <td>rakuten_{shop}.csv</td>\n",
       "      <td>予約ステータス</td>\n",
       "      <td>booking_status</td>\n",
       "      <td>status of booking (\"noshow\"=no show up, \"キャンセル...</td>\n",
       "    </tr>\n",
       "    <tr>\n",
       "      <th>1</th>\n",
       "      <td>2</td>\n",
       "      <td>rakuten_{shop}.csv</td>\n",
       "      <td>楽天予約番号</td>\n",
       "      <td>rakuten_booking_number</td>\n",
       "      <td>booking number created by OTA</td>\n",
       "    </tr>\n",
       "  </tbody>\n",
       "</table>\n",
       "</div>"
      ],
      "text/plain": [
       "   Unnamed: 0               Table  Row(JP)                 Row(EN)  \\\n",
       "0           1  rakuten_{shop}.csv  予約ステータス          booking_status   \n",
       "1           2  rakuten_{shop}.csv   楽天予約番号  rakuten_booking_number   \n",
       "\n",
       "                                         Description  \n",
       "0  status of booking (\"noshow\"=no show up, \"キャンセル...  \n",
       "1                      booking number created by OTA  "
      ]
     },
     "execution_count": 2,
     "metadata": {},
     "output_type": "execute_result"
    }
   ],
   "source": [
    "description = pd.read_csv('columns_description.csv', encoding= 'cp932')\n",
    "# подивимось на загальну форму датафрейму\n",
    "# look at DataFrame\n",
    "description.shape # Out: (227, 5)\n",
    "description.head(2)"
   ]
  },
  {
   "cell_type": "code",
   "execution_count": 3,
   "id": "6ff02f20",
   "metadata": {},
   "outputs": [
    {
     "name": "stdout",
     "output_type": "stream",
     "text": [
      "<class 'pandas.core.frame.DataFrame'>\n",
      "RangeIndex: 227 entries, 0 to 226\n",
      "Data columns (total 5 columns):\n",
      " #   Column       Non-Null Count  Dtype \n",
      "---  ------       --------------  ----- \n",
      " 0   Unnamed: 0   227 non-null    int64 \n",
      " 1   Table        227 non-null    object\n",
      " 2   Row(JP)      227 non-null    object\n",
      " 3   Row(EN)      227 non-null    object\n",
      " 4   Description  227 non-null    object\n",
      "dtypes: int64(1), object(4)\n",
      "memory usage: 9.0+ KB\n"
     ]
    }
   ],
   "source": [
    "# також поглянемо чиє пропущені значення\n",
    "# look at missing data\n",
    "description.info()"
   ]
  },
  {
   "cell_type": "code",
   "execution_count": 4,
   "id": "8d8b728e",
   "metadata": {},
   "outputs": [
    {
     "data": {
      "text/plain": [
       "array(['rakuten_{shop}.csv', 'jalan_{shop}.csv', 'skyticket_{shop}.csv',\n",
       "       'bestpricerentacar_{shop}.csv', 'tocoo_{shop}.csv'], dtype=object)"
      ]
     },
     "execution_count": 4,
     "metadata": {},
     "output_type": "execute_result"
    }
   ],
   "source": [
    "# Які файли описує завантажений датафрейм?\n",
    "# Get description files\n",
    "description.Table.unique()"
   ]
  },
  {
   "cell_type": "markdown",
   "id": "e412fead",
   "metadata": {},
   "source": [
    "<p style=\"color:blue\"><b>серед описаних таблиць нас цікавлять 'rakuten_{shop}.csv' та 'jalan_{shop}.csv'</b></p>"
   ]
  },
  {
   "cell_type": "markdown",
   "id": "00b7266c",
   "metadata": {},
   "source": [
    "# Порівняємо колонки \n",
    "### для \"rakuten_{shop}.csv\" та для \"jalan_{shop}.csv\""
   ]
  },
  {
   "cell_type": "code",
   "execution_count": 5,
   "id": "a8fd3959",
   "metadata": {},
   "outputs": [
    {
     "data": {
      "text/plain": [
       "Unnamed: 0     48\n",
       "Table           1\n",
       "Row(JP)        48\n",
       "Row(EN)        48\n",
       "Description    44\n",
       "dtype: int64"
      ]
     },
     "execution_count": 5,
     "metadata": {},
     "output_type": "execute_result"
    }
   ],
   "source": [
    "# відберемо спочатку \"rakuten_{shop}.csv\" \n",
    "# та поглянемо на кількість колонок та чи є відмінність між \"jalan_{shop}.csv\"\n",
    "# what difference about rakuten and jalan csv files columns\n",
    "rakuten_csv = description.query('Table==\"rakuten_{shop}.csv\"')\n",
    "rakuten_csv.nunique()"
   ]
  },
  {
   "cell_type": "code",
   "execution_count": 6,
   "id": "a029a72c",
   "metadata": {},
   "outputs": [
    {
     "data": {
      "text/plain": [
       "Unnamed: 0     46\n",
       "Table           1\n",
       "Row(JP)        46\n",
       "Row(EN)        46\n",
       "Description    38\n",
       "dtype: int64"
      ]
     },
     "execution_count": 6,
     "metadata": {},
     "output_type": "execute_result"
    }
   ],
   "source": [
    "jalan_csv = description.query('Table==\"jalan_{shop}.csv\"')\n",
    "jalan_csv.nunique()"
   ]
  },
  {
   "cell_type": "markdown",
   "id": "f0355baa",
   "metadata": {},
   "source": [
    "# Які відмінності?"
   ]
  },
  {
   "cell_type": "code",
   "execution_count": 7,
   "id": "878be393",
   "metadata": {},
   "outputs": [
    {
     "name": "stdout",
     "output_type": "stream",
     "text": [
      "В rakuten_rowEN відсутні колонки jalan_rowEN: {'final_total_amount', 'total_price', 'insurance', 'car_class', 'option_price', 'late_night_fee', 'booking_ number', 'dp_final_total_amount', 'return_shop', 'insurance_price', 'cuopon_name', 'additional_grant_points', 'system_usage_fee', 'basic_plan_price', 'cancellation_date_time', 'dp_last_update', 'cancellation_fee', 'status_of_booking', 'company_name', 'dp_operator_memo', 'departure_flight', 'total_option_price', 'grant_points', 'arrival_flight', 'plan_name', 'smoking', 'cuopon_code', 'cuopon_discount', 'payment_status', 'points', 'total_insurance_price', 'base_amount_calculation', 'plan_code', 'plan_classification', 'promotion_program', 'pickup_shop'}\n",
      "==============\n",
      "В jalan_rowEN відсутні колонки rakuten_rowEN: {'company_car_class_code', 'point', 'detail_car_class_code', 'accommodation_address', 'payment_method', 'detail_car_class_name', 'options_total_fee', 'non_taxable_amount', 'subtotal_amount', 'booking_status', 'number_of_children', 'taxable_amount', 'car_attribute', 'accommodation_phone_number', 'pickup_shop_name', 'cancel_request_date_time', 'request_confirmed_date_time', 'accommodation_name', 'rakuten_booking_number', 'cancel_confirmed_date_time', 'cancellation_reason', 'cancellation_classification', 'answer', 'campaign', 'accommodation_booking_number', 'night_fee_pickup', 'night_fee_return', 'return_shop_name', 'cancel_fee', 'company_booking_number', 'mobile_career', 'rakupack_booking_number', 'pickup_method', 'coupon', 'total_amount', 'basic_price', 'flight_number', 'mobile_model'}\n"
     ]
    }
   ],
   "source": [
    "def retrieve_name(var):\n",
    "    \"\"\"Gets the name of var. Does it from the out most frame inner-wards\n",
    "    :param var: variable to get name from.\n",
    "    :return: string\n",
    "    from https://stackoverflow.com/questions/18425225/getting-the-name-of-a-variable-as-a-string/19201952#19201952\n",
    "    \"\"\"\n",
    "    import inspect\n",
    "    for fi in reversed(inspect.stack()):\n",
    "            names = [var_name for var_name, var_val in fi.frame.f_locals.items() if var_val is var]\n",
    "            if len(names) > 0:\n",
    "                return names[0]\n",
    "            \n",
    "def difference_cols(col1, col2):\n",
    "    name_col1 , name_col2 = [retrieve_name(col) for col in [col1, col2]]\n",
    "    result = set(col1).difference(set(col2))\n",
    "    if result:\n",
    "        print(f'В {name_col2} відсутні колонки {name_col1}: {result}')\n",
    "    else:\n",
    "        print(f'В {name_col1} присутні всі колонки {name_col2}')\n",
    "    result2 = set(col2).difference(set(col1))\n",
    "    print('==============')\n",
    "    if result2:\n",
    "        print(f'В {name_col1} відсутні колонки {name_col2}: {result2}')\n",
    "    else:\n",
    "        print(f'В {name_col2} присутні всі колонки {name_col1}')\n",
    "    return result.union(result2)\n",
    "jalan_rowEN = jalan_csv['Row(EN)'].unique()\n",
    "rakuten_rowEN = rakuten_csv['Row(EN)'].unique()\n",
    "not_use = difference_cols(jalan_rowEN, rakuten_rowEN)"
   ]
  },
  {
   "cell_type": "markdown",
   "id": "a31b30ac",
   "metadata": {},
   "source": [
    "# Які ж колонки спільні?"
   ]
  },
  {
   "cell_type": "code",
   "execution_count": 8,
   "id": "75fe0bf0",
   "metadata": {},
   "outputs": [
    {
     "data": {
      "text/plain": [
       "['memo',\n",
       " 'return_date_time',\n",
       " 'request_date_time',\n",
       " 'number_of_passengers',\n",
       " 'drop_off_fee',\n",
       " 'return_shop_code',\n",
       " 'options',\n",
       " 'transmission',\n",
       " 'pickup_date_time',\n",
       " 'pickup_shop_code']"
      ]
     },
     "execution_count": 8,
     "metadata": {},
     "output_type": "execute_result"
    }
   ],
   "source": [
    "list_col = list(set(description.query('Table==\"jalan_{shop}.csv\" or Table==\"rakuten_{shop}.csv\"')['Row(EN)'].unique())-not_use)\n",
    "list_col"
   ]
  },
  {
   "cell_type": "markdown",
   "id": "a031c5c3",
   "metadata": {},
   "source": [
    "**так щоб модель однаково працювала на даних наборах будемо застосовувати вищезгадані колонки, що вони описують?**"
   ]
  },
  {
   "cell_type": "code",
   "execution_count": 9,
   "id": "88f77cc5",
   "metadata": {},
   "outputs": [
    {
     "data": {
      "text/html": [
       "<div>\n",
       "<style scoped>\n",
       "    .dataframe tbody tr th:only-of-type {\n",
       "        vertical-align: middle;\n",
       "    }\n",
       "\n",
       "    .dataframe tbody tr th {\n",
       "        vertical-align: top;\n",
       "    }\n",
       "\n",
       "    .dataframe thead th {\n",
       "        text-align: right;\n",
       "    }\n",
       "</style>\n",
       "<table border=\"1\" class=\"dataframe\">\n",
       "  <thead>\n",
       "    <tr style=\"text-align: right;\">\n",
       "      <th></th>\n",
       "      <th>Unnamed: 0</th>\n",
       "      <th>Table</th>\n",
       "      <th>Row(JP)</th>\n",
       "      <th>RowEN</th>\n",
       "      <th>Description</th>\n",
       "    </tr>\n",
       "  </thead>\n",
       "  <tbody>\n",
       "    <tr>\n",
       "      <th>4</th>\n",
       "      <td>7</td>\n",
       "      <td>rakuten_{shop}.csv</td>\n",
       "      <td>予約受付日時</td>\n",
       "      <td>request_date_time</td>\n",
       "      <td>date and time of the request made</td>\n",
       "    </tr>\n",
       "    <tr>\n",
       "      <th>8</th>\n",
       "      <td>11</td>\n",
       "      <td>rakuten_{shop}.csv</td>\n",
       "      <td>乗車人数</td>\n",
       "      <td>number_of_passengers</td>\n",
       "      <td>total number of passengers including children</td>\n",
       "    </tr>\n",
       "    <tr>\n",
       "      <th>16</th>\n",
       "      <td>19</td>\n",
       "      <td>rakuten_{shop}.csv</td>\n",
       "      <td>貸渡日時</td>\n",
       "      <td>pickup_date_time</td>\n",
       "      <td>date and time to pick up cars</td>\n",
       "    </tr>\n",
       "    <tr>\n",
       "      <th>17</th>\n",
       "      <td>20</td>\n",
       "      <td>rakuten_{shop}.csv</td>\n",
       "      <td>貸渡営業所コード</td>\n",
       "      <td>pickup_shop_code</td>\n",
       "      <td>code of shop where to pick up cars</td>\n",
       "    </tr>\n",
       "    <tr>\n",
       "      <th>19</th>\n",
       "      <td>22</td>\n",
       "      <td>rakuten_{shop}.csv</td>\n",
       "      <td>返却日時</td>\n",
       "      <td>return_date_time</td>\n",
       "      <td>date and time to return cars</td>\n",
       "    </tr>\n",
       "    <tr>\n",
       "      <th>20</th>\n",
       "      <td>23</td>\n",
       "      <td>rakuten_{shop}.csv</td>\n",
       "      <td>返却営業所コード</td>\n",
       "      <td>return_shop_code</td>\n",
       "      <td>code of shop where to return cars</td>\n",
       "    </tr>\n",
       "    <tr>\n",
       "      <th>25</th>\n",
       "      <td>28</td>\n",
       "      <td>rakuten_{shop}.csv</td>\n",
       "      <td>AT/MT区分</td>\n",
       "      <td>transmission</td>\n",
       "      <td>\"AT\"=automatic transmission, \"MT\"=manual trans...</td>\n",
       "    </tr>\n",
       "    <tr>\n",
       "      <th>29</th>\n",
       "      <td>32</td>\n",
       "      <td>rakuten_{shop}.csv</td>\n",
       "      <td>乗捨料金</td>\n",
       "      <td>drop_off_fee</td>\n",
       "      <td>additional fee to return the car to another shop</td>\n",
       "    </tr>\n",
       "    <tr>\n",
       "      <th>40</th>\n",
       "      <td>43</td>\n",
       "      <td>rakuten_{shop}.csv</td>\n",
       "      <td>備考</td>\n",
       "      <td>memo</td>\n",
       "      <td>memo</td>\n",
       "    </tr>\n",
       "    <tr>\n",
       "      <th>41</th>\n",
       "      <td>44</td>\n",
       "      <td>rakuten_{shop}.csv</td>\n",
       "      <td>付帯サービス</td>\n",
       "      <td>options</td>\n",
       "      <td>Show which options are included. Shows option ...</td>\n",
       "    </tr>\n",
       "    <tr>\n",
       "      <th>53</th>\n",
       "      <td>56</td>\n",
       "      <td>jalan_{shop}.csv</td>\n",
       "      <td>申込日</td>\n",
       "      <td>request_date_time</td>\n",
       "      <td>date and time of the request made</td>\n",
       "    </tr>\n",
       "    <tr>\n",
       "      <th>55</th>\n",
       "      <td>58</td>\n",
       "      <td>jalan_{shop}.csv</td>\n",
       "      <td>貸出日時</td>\n",
       "      <td>pickup_date_time</td>\n",
       "      <td>date and time to pick up cars</td>\n",
       "    </tr>\n",
       "    <tr>\n",
       "      <th>57</th>\n",
       "      <td>60</td>\n",
       "      <td>jalan_{shop}.csv</td>\n",
       "      <td>貸出営業所コード</td>\n",
       "      <td>pickup_shop_code</td>\n",
       "      <td>Code of the shop where user picks up the car</td>\n",
       "    </tr>\n",
       "    <tr>\n",
       "      <th>58</th>\n",
       "      <td>61</td>\n",
       "      <td>jalan_{shop}.csv</td>\n",
       "      <td>返却日時</td>\n",
       "      <td>return_date_time</td>\n",
       "      <td>date and time to return cars</td>\n",
       "    </tr>\n",
       "    <tr>\n",
       "      <th>60</th>\n",
       "      <td>63</td>\n",
       "      <td>jalan_{shop}.csv</td>\n",
       "      <td>返却営業所コード</td>\n",
       "      <td>return_shop_code</td>\n",
       "      <td>Code of the shop where user returns the car</td>\n",
       "    </tr>\n",
       "    <tr>\n",
       "      <th>63</th>\n",
       "      <td>66</td>\n",
       "      <td>jalan_{shop}.csv</td>\n",
       "      <td>AT/MT</td>\n",
       "      <td>transmission</td>\n",
       "      <td>Manual or automatic transmission (\"MT\"=manual,...</td>\n",
       "    </tr>\n",
       "    <tr>\n",
       "      <th>65</th>\n",
       "      <td>68</td>\n",
       "      <td>jalan_{shop}.csv</td>\n",
       "      <td>オプション</td>\n",
       "      <td>options</td>\n",
       "      <td>Show which options are included. Shows option ...</td>\n",
       "    </tr>\n",
       "    <tr>\n",
       "      <th>67</th>\n",
       "      <td>70</td>\n",
       "      <td>jalan_{shop}.csv</td>\n",
       "      <td>乗車人数</td>\n",
       "      <td>number_of_passengers</td>\n",
       "      <td>Number of passengers (\"大人\"=adults, \"子ども\"=kids)...</td>\n",
       "    </tr>\n",
       "    <tr>\n",
       "      <th>71</th>\n",
       "      <td>74</td>\n",
       "      <td>jalan_{shop}.csv</td>\n",
       "      <td>乗捨料金（予約時）</td>\n",
       "      <td>drop_off_fee</td>\n",
       "      <td>Additional charge in case if user doesn't retu...</td>\n",
       "    </tr>\n",
       "    <tr>\n",
       "      <th>91</th>\n",
       "      <td>94</td>\n",
       "      <td>jalan_{shop}.csv</td>\n",
       "      <td>メモ</td>\n",
       "      <td>memo</td>\n",
       "      <td>Memo</td>\n",
       "    </tr>\n",
       "  </tbody>\n",
       "</table>\n",
       "</div>"
      ],
      "text/plain": [
       "    Unnamed: 0               Table    Row(JP)                 RowEN  \\\n",
       "4            7  rakuten_{shop}.csv     予約受付日時     request_date_time   \n",
       "8           11  rakuten_{shop}.csv       乗車人数  number_of_passengers   \n",
       "16          19  rakuten_{shop}.csv       貸渡日時      pickup_date_time   \n",
       "17          20  rakuten_{shop}.csv   貸渡営業所コード      pickup_shop_code   \n",
       "19          22  rakuten_{shop}.csv       返却日時      return_date_time   \n",
       "20          23  rakuten_{shop}.csv   返却営業所コード      return_shop_code   \n",
       "25          28  rakuten_{shop}.csv    AT/MT区分          transmission   \n",
       "29          32  rakuten_{shop}.csv       乗捨料金          drop_off_fee   \n",
       "40          43  rakuten_{shop}.csv         備考                  memo   \n",
       "41          44  rakuten_{shop}.csv     付帯サービス               options   \n",
       "53          56    jalan_{shop}.csv        申込日     request_date_time   \n",
       "55          58    jalan_{shop}.csv       貸出日時      pickup_date_time   \n",
       "57          60    jalan_{shop}.csv   貸出営業所コード      pickup_shop_code   \n",
       "58          61    jalan_{shop}.csv       返却日時      return_date_time   \n",
       "60          63    jalan_{shop}.csv   返却営業所コード      return_shop_code   \n",
       "63          66    jalan_{shop}.csv      AT/MT          transmission   \n",
       "65          68    jalan_{shop}.csv      オプション               options   \n",
       "67          70    jalan_{shop}.csv       乗車人数  number_of_passengers   \n",
       "71          74    jalan_{shop}.csv  乗捨料金（予約時）          drop_off_fee   \n",
       "91          94    jalan_{shop}.csv         メモ                  memo   \n",
       "\n",
       "                                          Description  \n",
       "4                   date and time of the request made  \n",
       "8       total number of passengers including children  \n",
       "16                      date and time to pick up cars  \n",
       "17                 code of shop where to pick up cars  \n",
       "19                       date and time to return cars  \n",
       "20                  code of shop where to return cars  \n",
       "25  \"AT\"=automatic transmission, \"MT\"=manual trans...  \n",
       "29   additional fee to return the car to another shop  \n",
       "40                                               memo  \n",
       "41  Show which options are included. Shows option ...  \n",
       "53                  date and time of the request made  \n",
       "55                      date and time to pick up cars  \n",
       "57       Code of the shop where user picks up the car  \n",
       "58                       date and time to return cars  \n",
       "60        Code of the shop where user returns the car  \n",
       "63  Manual or automatic transmission (\"MT\"=manual,...  \n",
       "65  Show which options are included. Shows option ...  \n",
       "67  Number of passengers (\"大人\"=adults, \"子ども\"=kids)...  \n",
       "71  Additional charge in case if user doesn't retu...  \n",
       "91                                               Memo  "
      ]
     },
     "execution_count": 9,
     "metadata": {},
     "output_type": "execute_result"
    }
   ],
   "source": [
    "description = description.rename(columns = {'Row(EN)' : 'RowEN'})\n",
    "description.query('RowEN in @list_col and Table in (\"rakuten_{shop}.csv\",\"jalan_{shop}.csv\")')"
   ]
  },
  {
   "cell_type": "markdown",
   "id": "13dd9f86",
   "metadata": {},
   "source": [
    "дата та час виконаного запросу - request_date_time - 予約受付日時\n",
    "\n",
    "загальна кількість пасажирів, включно з дітьми - number_of_passengers - 乗車人数\n",
    "\n",
    "дата та час отримання автомобіля - pickup_date_time - 貸渡日時\n",
    "\n",
    "код магазину де забрати авто - pickup_shop_code - 貸渡営業所コード\n",
    "\n",
    "дата та час повернення автомобіля - return_date_time - 返却日時\n",
    "\n",
    "код магазину куди здати авто - return_shop_code - 返却営業所コード\n",
    "\n",
    "автоматична або ручна коробка передач - transmission - AT/MT区分\n",
    "\n",
    "додаткова плата за повернення авто в інший магазин - drop_off_fee - 乗捨料金\n",
    "\n",
    "памятка - memo - 備考\n",
    "\n",
    "опис опцій , які включені - options - 付帯サービス\n",
    "\n",
    "Скоріше за все серед даного переліку корисну інформацію для побудови моделі несе змінна \"貸渡日時\" - дата та час отримання автомобіля\n",
    "\n",
    "## Поглянемо на наповнення таблиць jalan та rakuten"
   ]
  },
  {
   "cell_type": "code",
   "execution_count": 10,
   "id": "ceafe31a",
   "metadata": {},
   "outputs": [
    {
     "name": "stdout",
     "output_type": "stream",
     "text": [
      "(1648, 46)\n"
     ]
    },
    {
     "data": {
      "text/html": [
       "<div>\n",
       "<style scoped>\n",
       "    .dataframe tbody tr th:only-of-type {\n",
       "        vertical-align: middle;\n",
       "    }\n",
       "\n",
       "    .dataframe tbody tr th {\n",
       "        vertical-align: top;\n",
       "    }\n",
       "\n",
       "    .dataframe thead th {\n",
       "        text-align: right;\n",
       "    }\n",
       "</style>\n",
       "<table border=\"1\" class=\"dataframe\">\n",
       "  <thead>\n",
       "    <tr style=\"text-align: right;\">\n",
       "      <th></th>\n",
       "      <th>事業者名</th>\n",
       "      <th>ステータス</th>\n",
       "      <th>精算</th>\n",
       "      <th>予約番号</th>\n",
       "      <th>企画区分</th>\n",
       "      <th>申込日</th>\n",
       "      <th>キャンセル日</th>\n",
       "      <th>貸出日時</th>\n",
       "      <th>貸出営業所</th>\n",
       "      <th>貸出営業所コード</th>\n",
       "      <th>...</th>\n",
       "      <th>利用クーポン金額</th>\n",
       "      <th>計算基準額</th>\n",
       "      <th>システム利用料</th>\n",
       "      <th>販促プログラム</th>\n",
       "      <th>ポイント付与料</th>\n",
       "      <th>ポイント追加付与料</th>\n",
       "      <th>料金プランコード</th>\n",
       "      <th>メモ</th>\n",
       "      <th>DPオペレーターメモ</th>\n",
       "      <th>DP用最終更新日時</th>\n",
       "    </tr>\n",
       "  </thead>\n",
       "  <tbody>\n",
       "    <tr>\n",
       "      <th>0</th>\n",
       "      <td>ニコニコレンタカー</td>\n",
       "      <td>予約成立</td>\n",
       "      <td>済</td>\n",
       "      <td>R08EYWXP</td>\n",
       "      <td>じゃらん</td>\n",
       "      <td>2016/2/17 0:28</td>\n",
       "      <td>NaN</td>\n",
       "      <td>2016/3/20 8:00</td>\n",
       "      <td>新千歳空港店（ニコレンお客様大賞受賞店）</td>\n",
       "      <td>chitose</td>\n",
       "      <td>...</td>\n",
       "      <td>1000.0</td>\n",
       "      <td>6481</td>\n",
       "      <td>777</td>\n",
       "      <td>0.0</td>\n",
       "      <td>129.0</td>\n",
       "      <td>0.0</td>\n",
       "      <td>SCS01</td>\n",
       "      <td>NaN</td>\n",
       "      <td>NaN</td>\n",
       "      <td>NaN</td>\n",
       "    </tr>\n",
       "  </tbody>\n",
       "</table>\n",
       "<p>1 rows × 46 columns</p>\n",
       "</div>"
      ],
      "text/plain": [
       "          事業者名 ステータス 精算      予約番号  企画区分             申込日 キャンセル日  \\\n",
       "0    ニコニコレンタカー  予約成立  済  R08EYWXP  じゃらん  2016/2/17 0:28    NaN   \n",
       "\n",
       "             貸出日時                 貸出営業所 貸出営業所コード  ... 利用クーポン金額 計算基準額 システム利用料  \\\n",
       "0  2016/3/20 8:00  新千歳空港店（ニコレンお客様大賞受賞店）  chitose  ...   1000.0  6481     777   \n",
       "\n",
       "  販促プログラム ポイント付与料 ポイント追加付与料 料金プランコード   メモ DPオペレーターメモ DP用最終更新日時  \n",
       "0     0.0   129.0       0.0    SCS01  NaN        NaN       NaN  \n",
       "\n",
       "[1 rows x 46 columns]"
      ]
     },
     "execution_count": 10,
     "metadata": {},
     "output_type": "execute_result"
    }
   ],
   "source": [
    "jalan = pd.read_csv('jalan_shinchitose.csv', encoding= 'cp932')\n",
    "print(jalan.shape)\n",
    "jalan.head(1)"
   ]
  },
  {
   "cell_type": "code",
   "execution_count": 11,
   "id": "f74bcd32",
   "metadata": {},
   "outputs": [],
   "source": [
    "# створимо словник-перекладач\n",
    "# create translator columns\n",
    "translate = dict(zip(description['Row(JP)'], description['RowEN'])) # RowEN"
   ]
  },
  {
   "cell_type": "code",
   "execution_count": 12,
   "id": "86bbfb55",
   "metadata": {},
   "outputs": [],
   "source": [
    "# перейменуємо колонки таблиці jalan\n",
    "# rename jalan columns\n",
    "for JP in jalan.columns.to_list():\n",
    "    jalan = jalan.rename(columns = {JP:translate[JP]})"
   ]
  },
  {
   "cell_type": "code",
   "execution_count": 13,
   "id": "9de71493",
   "metadata": {},
   "outputs": [
    {
     "data": {
      "text/html": [
       "<div>\n",
       "<style scoped>\n",
       "    .dataframe tbody tr th:only-of-type {\n",
       "        vertical-align: middle;\n",
       "    }\n",
       "\n",
       "    .dataframe tbody tr th {\n",
       "        vertical-align: top;\n",
       "    }\n",
       "\n",
       "    .dataframe thead th {\n",
       "        text-align: right;\n",
       "    }\n",
       "</style>\n",
       "<table border=\"1\" class=\"dataframe\">\n",
       "  <thead>\n",
       "    <tr style=\"text-align: right;\">\n",
       "      <th></th>\n",
       "      <th>company_name</th>\n",
       "      <th>status</th>\n",
       "      <th>payment_status</th>\n",
       "      <th>booking_number</th>\n",
       "      <th>plan_classification</th>\n",
       "      <th>request_date_time</th>\n",
       "      <th>cancelled_date_time</th>\n",
       "      <th>pickup_date_time</th>\n",
       "      <th>pickup_shop</th>\n",
       "      <th>pickup_shop_code</th>\n",
       "      <th>...</th>\n",
       "      <th>cuopon_discount</th>\n",
       "      <th>base_amount_calculation</th>\n",
       "      <th>system_usage_fee</th>\n",
       "      <th>promotion_program</th>\n",
       "      <th>grant_points</th>\n",
       "      <th>additional_grant_points</th>\n",
       "      <th>plan_code</th>\n",
       "      <th>memo</th>\n",
       "      <th>dp_operator_memo</th>\n",
       "      <th>dp_last_update</th>\n",
       "    </tr>\n",
       "  </thead>\n",
       "  <tbody>\n",
       "    <tr>\n",
       "      <th>0</th>\n",
       "      <td>ニコニコレンタカー</td>\n",
       "      <td>予約成立</td>\n",
       "      <td>済</td>\n",
       "      <td>R08EYWXP</td>\n",
       "      <td>じゃらん</td>\n",
       "      <td>2016/2/17 0:28</td>\n",
       "      <td>NaN</td>\n",
       "      <td>2016/3/20 8:00</td>\n",
       "      <td>新千歳空港店（ニコレンお客様大賞受賞店）</td>\n",
       "      <td>chitose</td>\n",
       "      <td>...</td>\n",
       "      <td>1000.0</td>\n",
       "      <td>6481</td>\n",
       "      <td>777</td>\n",
       "      <td>0.0</td>\n",
       "      <td>129.0</td>\n",
       "      <td>0.0</td>\n",
       "      <td>SCS01</td>\n",
       "      <td>NaN</td>\n",
       "      <td>NaN</td>\n",
       "      <td>NaN</td>\n",
       "    </tr>\n",
       "  </tbody>\n",
       "</table>\n",
       "<p>1 rows × 46 columns</p>\n",
       "</div>"
      ],
      "text/plain": [
       "  company_name status payment_status booking_number plan_classification  \\\n",
       "0    ニコニコレンタカー   予約成立              済       R08EYWXP                じゃらん   \n",
       "\n",
       "  request_date_time cancelled_date_time pickup_date_time  \\\n",
       "0    2016/2/17 0:28                 NaN   2016/3/20 8:00   \n",
       "\n",
       "            pickup_shop pickup_shop_code  ... cuopon_discount  \\\n",
       "0  新千歳空港店（ニコレンお客様大賞受賞店）          chitose  ...          1000.0   \n",
       "\n",
       "  base_amount_calculation system_usage_fee promotion_program grant_points  \\\n",
       "0                    6481              777               0.0        129.0   \n",
       "\n",
       "  additional_grant_points plan_code memo dp_operator_memo dp_last_update  \n",
       "0                     0.0     SCS01  NaN              NaN            NaN  \n",
       "\n",
       "[1 rows x 46 columns]"
      ]
     },
     "execution_count": 13,
     "metadata": {},
     "output_type": "execute_result"
    }
   ],
   "source": [
    "jalan.head(1)"
   ]
  },
  {
   "cell_type": "code",
   "execution_count": 14,
   "id": "05b5aa05",
   "metadata": {},
   "outputs": [
    {
     "data": {
      "text/plain": [
       "array(['予約成立', '来店なし', 'キャンセル（予約者都合）'], dtype=object)"
      ]
     },
     "execution_count": 14,
     "metadata": {},
     "output_type": "execute_result"
    }
   ],
   "source": [
    "# схоже колонка status відповідає booking_status booking status (\"キャンセル\"=cancelled, \"予約\"=booked, \"成約\"=confirmed)\n",
    "jalan.status.unique() # ['Reservation successful', 'No visitor', 'Cancellation (reserved person's circumstances)']"
   ]
  },
  {
   "cell_type": "code",
   "execution_count": 15,
   "id": "1ad935d6",
   "metadata": {},
   "outputs": [],
   "source": [
    "# перейменуємо колонки таблиці rakuten\n",
    "# rename rakuten columns\n",
    "rakuten = pd.read_csv('rakuten_shinchitose.csv', encoding= 'cp932')\n",
    "for JP in rakuten.columns.to_list():\n",
    "    rakuten= rakuten.rename(columns = {JP:translate[JP]})"
   ]
  },
  {
   "cell_type": "code",
   "execution_count": 16,
   "id": "c5aea353",
   "metadata": {},
   "outputs": [
    {
     "data": {
      "text/html": [
       "<div>\n",
       "<style scoped>\n",
       "    .dataframe tbody tr th:only-of-type {\n",
       "        vertical-align: middle;\n",
       "    }\n",
       "\n",
       "    .dataframe tbody tr th {\n",
       "        vertical-align: top;\n",
       "    }\n",
       "\n",
       "    .dataframe thead th {\n",
       "        text-align: right;\n",
       "    }\n",
       "</style>\n",
       "<table border=\"1\" class=\"dataframe\">\n",
       "  <thead>\n",
       "    <tr style=\"text-align: right;\">\n",
       "      <th></th>\n",
       "      <th>booking_status</th>\n",
       "      <th>rakuten_booking_number</th>\n",
       "      <th>company_booking_number</th>\n",
       "      <th>rakupack_booking_number</th>\n",
       "      <th>request_date_time</th>\n",
       "      <th>request_confirmed_date_time</th>\n",
       "      <th>cancel_request_date_time</th>\n",
       "      <th>cancellation_day_time</th>\n",
       "      <th>namber_of_passengers</th>\n",
       "      <th>number_of_children</th>\n",
       "      <th>...</th>\n",
       "      <th>non_taxable_amount</th>\n",
       "      <th>cancel_fee</th>\n",
       "      <th>memo</th>\n",
       "      <th>options</th>\n",
       "      <th>cancellation_reason</th>\n",
       "      <th>mobile_career</th>\n",
       "      <th>mobile_model</th>\n",
       "      <th>cancellation_classification</th>\n",
       "      <th>answer</th>\n",
       "      <th>payment_method</th>\n",
       "    </tr>\n",
       "  </thead>\n",
       "  <tbody>\n",
       "    <tr>\n",
       "      <th>0</th>\n",
       "      <td>キャンセル済（予約直後）</td>\n",
       "      <td>RC32457434637117616</td>\n",
       "      <td>NaN</td>\n",
       "      <td>NaN</td>\n",
       "      <td>2016/2/16 17:41</td>\n",
       "      <td>NaN</td>\n",
       "      <td>2016/2/16 17:47</td>\n",
       "      <td>NaN</td>\n",
       "      <td>3</td>\n",
       "      <td>0</td>\n",
       "      <td>...</td>\n",
       "      <td>0</td>\n",
       "      <td>0</td>\n",
       "      <td>NaN</td>\n",
       "      <td>免責補償制度 x 1, ＥＴＣ x 1, カーナビキャンペーン用 x 1, 喫煙車 x 1,...</td>\n",
       "      <td>NaN</td>\n",
       "      <td>NaN</td>\n",
       "      <td>NaN</td>\n",
       "      <td>NaN</td>\n",
       "      <td>NaN</td>\n",
       "      <td>オンラインカード決済</td>\n",
       "    </tr>\n",
       "  </tbody>\n",
       "</table>\n",
       "<p>1 rows × 48 columns</p>\n",
       "</div>"
      ],
      "text/plain": [
       "  booking_status rakuten_booking_number  company_booking_number  \\\n",
       "0   キャンセル済（予約直後）    RC32457434637117616                     NaN   \n",
       "\n",
       "  rakupack_booking_number request_date_time request_confirmed_date_time  \\\n",
       "0                     NaN   2016/2/16 17:41                         NaN   \n",
       "\n",
       "  cancel_request_date_time cancellation_day_time  namber_of_passengers  \\\n",
       "0          2016/2/16 17:47                   NaN                     3   \n",
       "\n",
       "   number_of_children  ... non_taxable_amount cancel_fee memo  \\\n",
       "0                   0  ...                  0          0  NaN   \n",
       "\n",
       "                                             options cancellation_reason  \\\n",
       "0  免責補償制度 x 1, ＥＴＣ x 1, カーナビキャンペーン用 x 1, 喫煙車 x 1,...                 NaN   \n",
       "\n",
       "  mobile_career mobile_model  cancellation_classification answer  \\\n",
       "0           NaN          NaN                          NaN    NaN   \n",
       "\n",
       "  payment_method  \n",
       "0     オンラインカード決済  \n",
       "\n",
       "[1 rows x 48 columns]"
      ]
     },
     "execution_count": 16,
     "metadata": {},
     "output_type": "execute_result"
    }
   ],
   "source": [
    "rakuten.head(1)"
   ]
  },
  {
   "cell_type": "code",
   "execution_count": 17,
   "id": "08dc3544",
   "metadata": {},
   "outputs": [
    {
     "name": "stdout",
     "output_type": "stream",
     "text": [
      "В rakuten_columns_list відсутні колонки jalan_columns_list: {'final_total_amount', 'total_price', 'insurance', 'car_class', 'option_price', 'status', 'late_night_fee', 'dp_final_total_amount', 'return_shop', 'insurance_price', 'cuopon_name', 'additional_grant_points', 'system_usage_fee', 'basic_plan_price', 'dp_last_update', 'cancellation_fee', 'booking_number', 'company_name', 'dp_operator_memo', 'departure_flight', 'total_option_price', 'grant_points', 'arrival_flight', 'plan_name', 'smoking', 'cuopon_code', 'cuopon_discount', 'payment_status', 'cancelled_date_time', 'points', 'total_insurance_price', 'base_amount_calculation', 'plan_code', 'plan_classification', 'promotion_program', 'pickup_shop'}\n",
      "==============\n",
      "В jalan_columns_list відсутні колонки rakuten_columns_list: {'company_car_class_code', 'point', 'detail_car_class_code', 'accommodation_address', 'payment_method', 'detail_car_class_name', 'options_total_fee', 'non_taxable_amount', 'subtotal_amount', 'booking_status', 'number_of_children', 'taxable_amount', 'car_attribute', 'accommodation_phone_number', 'pickup_shop_name', 'cancel_request_date_time', 'request_confirmed_date_time', 'accommodation_name', 'rakuten_booking_number', 'cancellation_reason', 'cancellation_day_time', 'cancellation_classification', 'campaign', 'answer', 'accommodation_booking_number', 'night_fee_pickup', 'night_fee_return', 'return_shop_name', 'cancel_fee', 'company_booking_number', 'mobile_career', 'rakupack_booking_number', 'pickup_method', 'coupon', 'total_amount', 'basic_price', 'flight_number', 'mobile_model'}\n"
     ]
    }
   ],
   "source": [
    "# порівняємо стовбці:\n",
    "jalan_columns_list = jalan.columns.to_list()\n",
    "rakuten_columns_list = rakuten.columns.to_list()\n",
    "n_u = difference_cols(jalan_columns_list, rakuten_columns_list)"
   ]
  },
  {
   "cell_type": "code",
   "execution_count": 18,
   "id": "b5d370f8",
   "metadata": {},
   "outputs": [
    {
     "data": {
      "text/plain": [
       "False"
      ]
     },
     "execution_count": 18,
     "metadata": {},
     "output_type": "execute_result"
    }
   ],
   "source": [
    "jalan_columns_list == rakuten_columns_list"
   ]
  },
  {
   "cell_type": "code",
   "execution_count": 19,
   "id": "5320c808",
   "metadata": {},
   "outputs": [
    {
     "data": {
      "text/plain": [
       "{'drop_off_fee',\n",
       " 'memo',\n",
       " 'namber_of_passengers',\n",
       " 'options',\n",
       " 'pickup_date_time',\n",
       " 'pickup_shop_code',\n",
       " 'request_date_time',\n",
       " 'return_date_time',\n",
       " 'return_shop_code',\n",
       " 'transmission'}"
      ]
     },
     "execution_count": 19,
     "metadata": {},
     "output_type": "execute_result"
    }
   ],
   "source": [
    "# однакові колонки\n",
    "set(jalan_columns_list+rakuten_columns_list)-n_u"
   ]
  },
  {
   "cell_type": "markdown",
   "id": "0ab52b05",
   "metadata": {},
   "source": [
    "## Як видно між колонками файлів jalan та rakuten багато відмінностей"
   ]
  },
  {
   "cell_type": "markdown",
   "id": "28964b00",
   "metadata": {},
   "source": [
    "Розглянемо інші колонки які могли б нести цінну інформацію\n",
    "\n",
    "та бачимо що важливою є колонка booking_status з наступними значеннями:\n",
    "\n",
    "\"予約確認済\"=confirmed booking - підтверджене бронювання\n",
    "\n",
    "\"予約確認済（料金変更あり）\"=confirmed booking with price changes - підтверджене бронювання зі зміною ціни\n",
    "\n",
    "для навчання моделі не менш важливими є значення ВІДМІНИ БРОНЮВАННЯ\n",
    "\n",
    "\"キャンセル確認済\"=confirmed cancellation - підтверджена відміна\n",
    "\n",
    "\"キャンセル済（管理画面より）\"=cancelled by admin - відмінено адміністратором\n",
    "\n",
    "\"キャンセル済（予約直後）\"=cancelled right after booking - відміна відразу після бронювання\n",
    "\n",
    "\"キャンセル未確認\"=unconfirmed cancellation - не підтверджена відміна\n"
   ]
  },
  {
   "cell_type": "code",
   "execution_count": 20,
   "id": "3ee4347d",
   "metadata": {},
   "outputs": [],
   "source": [
    "# from IPython.core.display import display, HTML\n",
    "# display(HTML(description[['RowEN', 'Description']].to_html()))"
   ]
  },
  {
   "cell_type": "code",
   "execution_count": 21,
   "id": "50e6cb91",
   "metadata": {},
   "outputs": [
    {
     "name": "stdout",
     "output_type": "stream",
     "text": [
      "<class 'pandas.core.frame.DataFrame'>\n",
      "RangeIndex: 1648 entries, 0 to 1647\n",
      "Data columns (total 3 columns):\n",
      " #   Column             Non-Null Count  Dtype \n",
      "---  ------             --------------  ----- \n",
      " 0   status             1648 non-null   object\n",
      " 1   booking_number     1648 non-null   object\n",
      " 2   request_date_time  1648 non-null   object\n",
      "dtypes: object(3)\n",
      "memory usage: 38.8+ KB\n"
     ]
    }
   ],
   "source": [
    "# Подивимось на пропущені значення \n",
    "jalan[['status', 'booking_number', 'request_date_time']].info()"
   ]
  },
  {
   "cell_type": "code",
   "execution_count": 22,
   "id": "8f046ecb",
   "metadata": {},
   "outputs": [
    {
     "name": "stdout",
     "output_type": "stream",
     "text": [
      "<class 'pandas.core.frame.DataFrame'>\n",
      "RangeIndex: 3983 entries, 0 to 3982\n",
      "Data columns (total 3 columns):\n",
      " #   Column                  Non-Null Count  Dtype \n",
      "---  ------                  --------------  ----- \n",
      " 0   booking_status          3983 non-null   object\n",
      " 1   request_date_time       3983 non-null   object\n",
      " 2   rakuten_booking_number  3983 non-null   object\n",
      "dtypes: object(3)\n",
      "memory usage: 93.5+ KB\n"
     ]
    }
   ],
   "source": [
    "rakuten[['booking_status','request_date_time','rakuten_booking_number']].info()"
   ]
  },
  {
   "cell_type": "markdown",
   "id": "cf6f684e",
   "metadata": {},
   "source": [
    "Розглянемо ще колонки 'booking_number' та 'rakuten_booking_number' - можливо для одного замовлення бути два значення замовлено та відхилено"
   ]
  },
  {
   "cell_type": "code",
   "execution_count": 23,
   "id": "196fa35c",
   "metadata": {},
   "outputs": [
    {
     "data": {
      "text/plain": [
       "1648"
      ]
     },
     "execution_count": 23,
     "metadata": {},
     "output_type": "execute_result"
    }
   ],
   "source": [
    "jalan.booking_number.nunique() # всі значення унікальні!!!"
   ]
  },
  {
   "cell_type": "code",
   "execution_count": 24,
   "id": "7c0a011f",
   "metadata": {},
   "outputs": [
    {
     "data": {
      "text/plain": [
       "3983"
      ]
     },
     "execution_count": 24,
     "metadata": {},
     "output_type": "execute_result"
    }
   ],
   "source": [
    "rakuten.rakuten_booking_number.nunique() # всі значення унікальні!!!"
   ]
  },
  {
   "cell_type": "code",
   "execution_count": 25,
   "id": "b5d429d9",
   "metadata": {},
   "outputs": [
    {
     "data": {
      "text/plain": [
       "array(['キャンセル済（予約直後）', '予約確認済', 'キャンセル確認済', 'キャンセル済（管理画面より）', '予約未確認',\n",
       "       'キャンセル未確認', '予約確認済（料金変更あり）'], dtype=object)"
      ]
     },
     "execution_count": 25,
     "metadata": {},
     "output_type": "execute_result"
    }
   ],
   "source": [
    "rakuten.booking_status.unique()"
   ]
  },
  {
   "cell_type": "markdown",
   "id": "8960b72a",
   "metadata": {},
   "source": [
    "# тож для подальшого аналізу: \n",
    "використаємо незалежні змінні `rakuten.booking_status` та `jalan.status` які вказують на кількість авто які було замовлено, та залежні змінні  `jalan.request_date_time` та `rakuten.request_date_time`"
   ]
  },
  {
   "cell_type": "code",
   "execution_count": 26,
   "id": "7bda1d75",
   "metadata": {},
   "outputs": [
    {
     "data": {
      "text/plain": [
       "[<matplotlib.lines.Line2D at 0x2479ad78580>]"
      ]
     },
     "execution_count": 26,
     "metadata": {},
     "output_type": "execute_result"
    },
    {
     "data": {
      "image/png": "[encoded data removed]",
      "text/plain": [
       "<Figure size 432x288 with 1 Axes>"
      ]
     },
     "metadata": {
      "needs_background": "light"
     },
     "output_type": "display_data"
    }
   ],
   "source": [
    "# підрахуємо кількість замовлених авто по дням сгрупувавши за датою\n",
    "df_rakuten = pd.DataFrame()\n",
    "\n",
    "booked = []\n",
    "for i in rakuten.booking_status:\n",
    "    if i in [\"予約確認済\", \"予約確認済（料金変更あり）\"]:\n",
    "        booked.append(1)\n",
    "    else:\n",
    "        booked.append(0)\n",
    "\n",
    "df_rakuten['booking_status'] = booked        \n",
    "df_rakuten['date'] = pd.to_datetime(rakuten['request_date_time'], format='%Y.%m.%d', dayfirst= True)\n",
    "\n",
    "df_rakuten['just_date'] = df_rakuten['date'].dt.date\n",
    "# Групування через суму не підходить так як не воаховуються дні в яку не було замовлень ~ 100 днів за 3 роки\n",
    "# ==>>> dfs = df_rakuten.groupby('just_date').sum().sort_values(by='just_date', ascending=False)\n",
    "dfs = df_rakuten.groupby('just_date').sum().sort_values(by='just_date', ascending=False)\n",
    "df = df_rakuten[(df_rakuten['booking_status']==1)]\\\n",
    ".groupby(pd.Grouper(key='date', freq='D')) ['date'].count().to_frame()\n",
    "plt.plot(df)\n",
    "plt.plot(dfs)"
   ]
  },
  {
   "cell_type": "code",
   "execution_count": 27,
   "id": "48725042",
   "metadata": {},
   "outputs": [],
   "source": [
    "df['DATE'] = df.index\n",
    "rak = pd.DataFrame.from_dict(df.values).rename(columns= {1:'date',0:'count_car'})\n",
    "rak\n",
    "rak['just_date'] = rak.date.dt.date # створимо колонку за якою будемо зєднувати святкові дні"
   ]
  },
  {
   "cell_type": "markdown",
   "id": "c77d4691",
   "metadata": {},
   "source": [
    "# Додамо святкові дні"
   ]
  },
  {
   "cell_type": "code",
   "execution_count": 28,
   "id": "723e537b",
   "metadata": {},
   "outputs": [
    {
     "data": {
      "text/html": [
       "<div>\n",
       "<style scoped>\n",
       "    .dataframe tbody tr th:only-of-type {\n",
       "        vertical-align: middle;\n",
       "    }\n",
       "\n",
       "    .dataframe tbody tr th {\n",
       "        vertical-align: top;\n",
       "    }\n",
       "\n",
       "    .dataframe thead th {\n",
       "        text-align: right;\n",
       "    }\n",
       "</style>\n",
       "<table border=\"1\" class=\"dataframe\">\n",
       "  <thead>\n",
       "    <tr style=\"text-align: right;\">\n",
       "      <th></th>\n",
       "      <th>count_car</th>\n",
       "      <th>date</th>\n",
       "      <th>just_date</th>\n",
       "      <th>Japan</th>\n",
       "    </tr>\n",
       "  </thead>\n",
       "  <tbody>\n",
       "    <tr>\n",
       "      <th>0</th>\n",
       "      <td>1</td>\n",
       "      <td>2016-02-16</td>\n",
       "      <td>2016-02-16</td>\n",
       "      <td>0</td>\n",
       "    </tr>\n",
       "    <tr>\n",
       "      <th>1</th>\n",
       "      <td>0</td>\n",
       "      <td>2016-02-17</td>\n",
       "      <td>2016-02-17</td>\n",
       "      <td>0</td>\n",
       "    </tr>\n",
       "    <tr>\n",
       "      <th>2</th>\n",
       "      <td>0</td>\n",
       "      <td>2016-02-18</td>\n",
       "      <td>2016-02-18</td>\n",
       "      <td>0</td>\n",
       "    </tr>\n",
       "    <tr>\n",
       "      <th>3</th>\n",
       "      <td>1</td>\n",
       "      <td>2016-02-19</td>\n",
       "      <td>2016-02-19</td>\n",
       "      <td>0</td>\n",
       "    </tr>\n",
       "    <tr>\n",
       "      <th>4</th>\n",
       "      <td>2</td>\n",
       "      <td>2016-02-20</td>\n",
       "      <td>2016-02-20</td>\n",
       "      <td>0</td>\n",
       "    </tr>\n",
       "    <tr>\n",
       "      <th>...</th>\n",
       "      <td>...</td>\n",
       "      <td>...</td>\n",
       "      <td>...</td>\n",
       "      <td>...</td>\n",
       "    </tr>\n",
       "    <tr>\n",
       "      <th>1045</th>\n",
       "      <td>2</td>\n",
       "      <td>2018-12-27</td>\n",
       "      <td>2018-12-27</td>\n",
       "      <td>0</td>\n",
       "    </tr>\n",
       "    <tr>\n",
       "      <th>1046</th>\n",
       "      <td>2</td>\n",
       "      <td>2018-12-28</td>\n",
       "      <td>2018-12-28</td>\n",
       "      <td>0</td>\n",
       "    </tr>\n",
       "    <tr>\n",
       "      <th>1047</th>\n",
       "      <td>2</td>\n",
       "      <td>2018-12-29</td>\n",
       "      <td>2018-12-29</td>\n",
       "      <td>0</td>\n",
       "    </tr>\n",
       "    <tr>\n",
       "      <th>1048</th>\n",
       "      <td>3</td>\n",
       "      <td>2018-12-30</td>\n",
       "      <td>2018-12-30</td>\n",
       "      <td>0</td>\n",
       "    </tr>\n",
       "    <tr>\n",
       "      <th>1049</th>\n",
       "      <td>2</td>\n",
       "      <td>2018-12-31</td>\n",
       "      <td>2018-12-31</td>\n",
       "      <td>0</td>\n",
       "    </tr>\n",
       "  </tbody>\n",
       "</table>\n",
       "<p>1050 rows × 4 columns</p>\n",
       "</div>"
      ],
      "text/plain": [
       "     count_car       date   just_date  Japan\n",
       "0            1 2016-02-16  2016-02-16      0\n",
       "1            0 2016-02-17  2016-02-17      0\n",
       "2            0 2016-02-18  2016-02-18      0\n",
       "3            1 2016-02-19  2016-02-19      0\n",
       "4            2 2016-02-20  2016-02-20      0\n",
       "...        ...        ...         ...    ...\n",
       "1045         2 2018-12-27  2018-12-27      0\n",
       "1046         2 2018-12-28  2018-12-28      0\n",
       "1047         2 2018-12-29  2018-12-29      0\n",
       "1048         3 2018-12-30  2018-12-30      0\n",
       "1049         2 2018-12-31  2018-12-31      0\n",
       "\n",
       "[1050 rows x 4 columns]"
      ]
     },
     "execution_count": 28,
     "metadata": {},
     "output_type": "execute_result"
    }
   ],
   "source": [
    "holidays = pd.read_csv('holidays_Japan.csv')\n",
    "holidays['date'] = pd.to_datetime(holidays['day'])\n",
    "holidays['just_date'] = holidays['date'].dt.date\n",
    "hol = holidays[['Japan', 'just_date']]\n",
    "rak = rak.merge(hol, on=['just_date'])\n",
    "rak"
   ]
  },
  {
   "cell_type": "markdown",
   "id": "241450cb",
   "metadata": {},
   "source": [
    "# Додамо аналогічним чином погодні дані"
   ]
  },
  {
   "cell_type": "code",
   "execution_count": 29,
   "id": "eb89e356",
   "metadata": {},
   "outputs": [],
   "source": [
    "weather = pd.read_csv('weather_Hokkaido.csv')\n",
    "weather.columns # Out: ['date', 'city_id', 'city', 'district', 'conditions', 'high_temp','low_temp', 'rain_probability']\n",
    "weather['date'] = pd.to_datetime(holidays['day'])\n",
    "weather['just_date'] = weather['date'].dt.date\n",
    "weather = weather[['high_temp', 'low_temp', 'rain_probability', 'just_date']]\n",
    "rak = rak.merge(weather, on=['just_date'])"
   ]
  },
  {
   "cell_type": "code",
   "execution_count": 30,
   "id": "17f355c6",
   "metadata": {},
   "outputs": [
    {
     "name": "stdout",
     "output_type": "stream",
     "text": [
      "<class 'pandas.core.frame.DataFrame'>\n",
      "Int64Index: 1050 entries, 0 to 1049\n",
      "Data columns (total 7 columns):\n",
      " #   Column            Non-Null Count  Dtype         \n",
      "---  ------            --------------  -----         \n",
      " 0   count_car         1050 non-null   object        \n",
      " 1   date              1050 non-null   datetime64[ns]\n",
      " 2   just_date         1050 non-null   object        \n",
      " 3   Japan             1050 non-null   int64         \n",
      " 4   high_temp         1050 non-null   int64         \n",
      " 5   low_temp          1050 non-null   int64         \n",
      " 6   rain_probability  1050 non-null   int64         \n",
      "dtypes: datetime64[ns](1), int64(4), object(2)\n",
      "memory usage: 65.6+ KB\n"
     ]
    }
   ],
   "source": [
    "rak.info()"
   ]
  },
  {
   "cell_type": "code",
   "execution_count": 31,
   "id": "5a60376a",
   "metadata": {},
   "outputs": [
    {
     "name": "stdout",
     "output_type": "stream",
     "text": [
      "<class 'pandas.core.frame.DataFrame'>\n",
      "Int64Index: 1050 entries, 0 to 1049\n",
      "Data columns (total 7 columns):\n",
      " #   Column            Non-Null Count  Dtype         \n",
      "---  ------            --------------  -----         \n",
      " 0   count_car         1050 non-null   int64         \n",
      " 1   date              1050 non-null   datetime64[ns]\n",
      " 2   just_date         1050 non-null   object        \n",
      " 3   Japan             1050 non-null   object        \n",
      " 4   high_temp         1050 non-null   int64         \n",
      " 5   low_temp          1050 non-null   int64         \n",
      " 6   rain_probability  1050 non-null   int64         \n",
      "dtypes: datetime64[ns](1), int64(4), object(2)\n",
      "memory usage: 65.6+ KB\n"
     ]
    }
   ],
   "source": [
    "rak['count_car'] = rak['count_car'].astype('int64')\n",
    "rak['Japan'] = rak['Japan'].astype('object') # святкові дні це категоріальний признак з двома градаціями\n",
    "rak.info()"
   ]
  },
  {
   "cell_type": "markdown",
   "id": "78eec816",
   "metadata": {},
   "source": [
    "# Розглянемо необхідну інформацію про розподіл числових змінних."
   ]
  },
  {
   "cell_type": "code",
   "execution_count": 32,
   "id": "f9a72fe4",
   "metadata": {},
   "outputs": [
    {
     "data": {
      "image/png": "[encoded data removed]",
      "text/plain": [
       "<Figure size 1080x360 with 4 Axes>"
      ]
     },
     "metadata": {
      "needs_background": "light"
     },
     "output_type": "display_data"
    }
   ],
   "source": [
    "rak_features = rak[['high_temp', 'low_temp', 'rain_probability', 'count_car']]\n",
    "fig, axs = plt.subplots(ncols=len(rak_features.columns), figsize=(15,5))\n",
    "for col_name, ax in zip(rak_features.columns, axs):\n",
    "    rak_features.boxplot(column=col_name, ax=ax, showmeans=True)"
   ]
  },
  {
   "cell_type": "code",
   "execution_count": 33,
   "id": "1acf6475",
   "metadata": {},
   "outputs": [],
   "source": [
    "# rak_fearche.describe()"
   ]
  },
  {
   "cell_type": "markdown",
   "id": "973e906e",
   "metadata": {},
   "source": [
    "# Як розподіляються значення в залежності від часу"
   ]
  },
  {
   "cell_type": "code",
   "execution_count": 34,
   "id": "d30eabcb",
   "metadata": {},
   "outputs": [
    {
     "data": {
      "text/plain": [
       "Text(0.5, 1.0, 'Максимальне значення температури')"
      ]
     },
     "execution_count": 34,
     "metadata": {},
     "output_type": "execute_result"
    },
    {
     "data": {
      "image/png": "[encoded data removed]",
      "text/plain": [
       "<Figure size 1080x720 with 4 Axes>"
      ]
     },
     "metadata": {
      "needs_background": "light"
     },
     "output_type": "display_data"
    }
   ],
   "source": [
    "fig, axs = plt.subplots(ncols=2, nrows=2, figsize=(15,10))\n",
    "axs[0, 0].scatter(rak.date, rak.count_car)\n",
    "axs[0, 0].set_title('Кількість замовлених авто')\n",
    "axs[0, 1].scatter(rak.date, rak.rain_probability)\n",
    "axs[0, 1].set_title('Вірогідність дощу')\n",
    "axs[1, 0].scatter(rak.date, rak.low_temp)\n",
    "axs[1, 0].set_title('Мінімальне значення температури')\n",
    "axs[1, 1].scatter(rak.date, rak.high_temp)\n",
    "axs[1, 1].set_title('Максимальне значення температури')"
   ]
  },
  {
   "cell_type": "markdown",
   "id": "072133f6",
   "metadata": {},
   "source": [
    "# Як корелюють отримані дані"
   ]
  },
  {
   "cell_type": "code",
   "execution_count": 35,
   "id": "ff759c28",
   "metadata": {},
   "outputs": [
    {
     "data": {
      "image/png": "[encoded data removed]",
      "text/plain": [
       "<Figure size 720x720 with 16 Axes>"
      ]
     },
     "metadata": {
      "needs_background": "light"
     },
     "output_type": "display_data"
    }
   ],
   "source": [
    "rak_features = rak[['high_temp', 'low_temp', 'rain_probability', 'Japan', 'count_car']]\n",
    "axes = pd.plotting.scatter_matrix(rak_features, figsize=(10,10), diagonal='kde', grid=True)\n",
    "corr = rak_features.corr().values\n",
    "for i, j in zip(*plt.np.triu_indices_from(axes, k=1)):\n",
    "    axes[i, j].annotate(\"%.3f\" %corr[i,j], (0.8, 0.8), xycoords='axes fraction', ha='center', va='center')\n",
    "plt.show()"
   ]
  },
  {
   "cell_type": "markdown",
   "id": "adcd1f2b",
   "metadata": {},
   "source": [
    "# Проведем класичні тести на перевірку нормальності розподілу наших змінних"
   ]
  },
  {
   "cell_type": "code",
   "execution_count": 36,
   "id": "4a6b15e7",
   "metadata": {},
   "outputs": [],
   "source": [
    "import scipy.stats as stats\n",
    "from scipy.stats import anderson, kstest, shapiro, chisquare\n",
    "from statsmodels.stats.diagnostic import lilliefors\n",
    "\n",
    "def conclusions(test):\n",
    "    def wraper(sample):\n",
    "        statistic, pvalue = test(sample)\n",
    "        if pvalue < 0.05:\n",
    "            print(f'{statistic=} {pvalue=} < 0.05, data does NOT look NORMAL (reject H0)')\n",
    "            print('!!!')\n",
    "        else:\n",
    "            print(f'{statistic=:0.2f} {pvalue=:0.2f} > 0.05, data looks NORMAL (fail to reject H0)')\n",
    "    return wraper\n",
    "\n",
    "# Критерій Шапіро-Уїлка        \n",
    "@conclusions        \n",
    "def Shapiro(sample):\n",
    "    print('ShapiroResult')\n",
    "    statistic, pvalue = stats.shapiro(sample)\n",
    "    return statistic, pvalue\n",
    "\n",
    "# Критерій Колмогорова-Смирнова \n",
    "@conclusions\n",
    "def KS(sample):\n",
    "    print('KstestResult')\n",
    "    statistic, pvalue = stats.kstest(sample, 'norm')\n",
    "    return statistic, pvalue\n",
    "\n",
    "# Критерій Лілієфорса\n",
    "@conclusions\n",
    "def Lilliefors_test(sample):\n",
    "    print('LillieforsResult')\n",
    "    statistic, pvalue = lilliefors(sample)\n",
    "    return statistic, pvalue\n",
    "    \n",
    "# Критерій Андерсона-Дарлінга\n",
    "def Anderson_Darling_test(sample):\n",
    "    print('AndersonDarlingResult')\n",
    "    result = anderson(sample)\n",
    "    print('Statistic: %.3f' % result.statistic)\n",
    "    for i in range(len(result.critical_values)):\n",
    "        sl, cv = result.significance_level[i], result.critical_values[i]\n",
    "        if result.statistic < result.critical_values[i]:\n",
    "            print('%.3f: %.3f, data looks normal (fail to reject H0)' % (sl, cv))\n",
    "        else:\n",
    "            print('%.3f: %.3f, data does not look normal (reject H0)' % (sl, cv))\n",
    "            print('!!!')"
   ]
  },
  {
   "cell_type": "code",
   "execution_count": 37,
   "id": "7e279833",
   "metadata": {},
   "outputs": [
    {
     "name": "stdout",
     "output_type": "stream",
     "text": [
      "=========================high_temp=========================\n",
      "KstestResult\n",
      "statistic=1.0 pvalue=0.0 < 0.05, data does NOT look NORMAL (reject H0)\n",
      "!!!\n",
      "LillieforsResult\n",
      "statistic=0.08250271080241489 pvalue=0.0009999999999998899 < 0.05, data does NOT look NORMAL (reject H0)\n",
      "!!!\n",
      "ShapiroResult\n",
      "statistic=0.9732508063316345 pvalue=5.339691362682419e-13 < 0.05, data does NOT look NORMAL (reject H0)\n",
      "!!!\n",
      "AndersonDarlingResult\n",
      "Statistic: 7.663\n",
      "15.000: 0.574, data does not look normal (reject H0)\n",
      "!!!\n",
      "10.000: 0.654, data does not look normal (reject H0)\n",
      "!!!\n",
      "5.000: 0.784, data does not look normal (reject H0)\n",
      "!!!\n",
      "2.500: 0.915, data does not look normal (reject H0)\n",
      "!!!\n",
      "1.000: 1.088, data does not look normal (reject H0)\n",
      "!!!\n",
      "=========================low_temp=========================\n",
      "KstestResult\n",
      "statistic=1.0 pvalue=0.0 < 0.05, data does NOT look NORMAL (reject H0)\n",
      "!!!\n",
      "LillieforsResult\n",
      "statistic=0.16711214238042899 pvalue=0.0009999999999998899 < 0.05, data does NOT look NORMAL (reject H0)\n",
      "!!!\n",
      "ShapiroResult\n",
      "statistic=0.9289137721061707 pvalue=6.695498458701389e-22 < 0.05, data does NOT look NORMAL (reject H0)\n",
      "!!!\n",
      "AndersonDarlingResult\n",
      "Statistic: 24.931\n",
      "15.000: 0.574, data does not look normal (reject H0)\n",
      "!!!\n",
      "10.000: 0.654, data does not look normal (reject H0)\n",
      "!!!\n",
      "5.000: 0.784, data does not look normal (reject H0)\n",
      "!!!\n",
      "2.500: 0.915, data does not look normal (reject H0)\n",
      "!!!\n",
      "1.000: 1.088, data does not look normal (reject H0)\n",
      "!!!\n",
      "=========================rain_probability=========================\n",
      "KstestResult\n",
      "statistic=0.6466666666666667 pvalue=0.0 < 0.05, data does NOT look NORMAL (reject H0)\n",
      "!!!\n",
      "LillieforsResult\n",
      "statistic=0.22534331249483203 pvalue=0.0009999999999998899 < 0.05, data does NOT look NORMAL (reject H0)\n",
      "!!!\n",
      "ShapiroResult\n",
      "statistic=0.8313355445861816 pvalue=7.118346512979285e-32 < 0.05, data does NOT look NORMAL (reject H0)\n",
      "!!!\n",
      "AndersonDarlingResult\n",
      "Statistic: 72.681\n",
      "15.000: 0.574, data does not look normal (reject H0)\n",
      "!!!\n",
      "10.000: 0.654, data does not look normal (reject H0)\n",
      "!!!\n",
      "5.000: 0.784, data does not look normal (reject H0)\n",
      "!!!\n",
      "2.500: 0.915, data does not look normal (reject H0)\n",
      "!!!\n",
      "1.000: 1.088, data does not look normal (reject H0)\n",
      "!!!\n",
      "=========================count_car=========================\n",
      "KstestResult\n",
      "statistic=0.7280114127352096 pvalue=0.0 < 0.05, data does NOT look NORMAL (reject H0)\n",
      "!!!\n",
      "LillieforsResult\n",
      "statistic=0.17709318097278404 pvalue=0.0009999999999998899 < 0.05, data does NOT look NORMAL (reject H0)\n",
      "!!!\n",
      "ShapiroResult\n",
      "statistic=0.8693749904632568 pvalue=1.020360091948788e-28 < 0.05, data does NOT look NORMAL (reject H0)\n",
      "!!!\n",
      "AndersonDarlingResult\n",
      "Statistic: 34.823\n",
      "15.000: 0.574, data does not look normal (reject H0)\n",
      "!!!\n",
      "10.000: 0.654, data does not look normal (reject H0)\n",
      "!!!\n",
      "5.000: 0.784, data does not look normal (reject H0)\n",
      "!!!\n",
      "2.500: 0.915, data does not look normal (reject H0)\n",
      "!!!\n",
      "1.000: 1.088, data does not look normal (reject H0)\n",
      "!!!\n"
     ]
    }
   ],
   "source": [
    "rak_features = rak[['high_temp', 'low_temp', 'rain_probability', 'count_car']]\n",
    "for feature in rak_features.columns:\n",
    "    print(f'========================={feature}=========================')\n",
    "    KS(rak_features[f'{feature}'])\n",
    "    Lilliefors_test(rak_features[f'{feature}'])\n",
    "    Shapiro(rak_features[f'{feature}'])\n",
    "    Anderson_Darling_test(rak_features[f'{feature}'])\n",
    "# ВСІ ТЕСТИ ГОВОРЯТЬ ПРО НИЗЬКУ ІМОВІРНІСТЬ ТОГО ЩО ДАНІ РОЗПОДІЛЕНІ НОРМАЛЬНО"
   ]
  },
  {
   "cell_type": "code",
   "execution_count": 38,
   "id": "466f5101",
   "metadata": {},
   "outputs": [
    {
     "data": {
      "text/html": [
       "<div>\n",
       "<style scoped>\n",
       "    .dataframe tbody tr th:only-of-type {\n",
       "        vertical-align: middle;\n",
       "    }\n",
       "\n",
       "    .dataframe tbody tr th {\n",
       "        vertical-align: top;\n",
       "    }\n",
       "\n",
       "    .dataframe thead th {\n",
       "        text-align: right;\n",
       "    }\n",
       "</style>\n",
       "<table border=\"1\" class=\"dataframe\">\n",
       "  <thead>\n",
       "    <tr style=\"text-align: right;\">\n",
       "      <th></th>\n",
       "      <th>high_temp</th>\n",
       "      <th>low_temp</th>\n",
       "      <th>rain_probability</th>\n",
       "      <th>count_car</th>\n",
       "    </tr>\n",
       "  </thead>\n",
       "  <tbody>\n",
       "    <tr>\n",
       "      <th>0</th>\n",
       "      <td>25</td>\n",
       "      <td>19</td>\n",
       "      <td>50</td>\n",
       "      <td>1</td>\n",
       "    </tr>\n",
       "    <tr>\n",
       "      <th>1</th>\n",
       "      <td>26</td>\n",
       "      <td>20</td>\n",
       "      <td>50</td>\n",
       "      <td>0</td>\n",
       "    </tr>\n",
       "    <tr>\n",
       "      <th>2</th>\n",
       "      <td>28</td>\n",
       "      <td>21</td>\n",
       "      <td>50</td>\n",
       "      <td>0</td>\n",
       "    </tr>\n",
       "    <tr>\n",
       "      <th>3</th>\n",
       "      <td>28</td>\n",
       "      <td>20</td>\n",
       "      <td>30</td>\n",
       "      <td>1</td>\n",
       "    </tr>\n",
       "    <tr>\n",
       "      <th>4</th>\n",
       "      <td>28</td>\n",
       "      <td>19</td>\n",
       "      <td>50</td>\n",
       "      <td>2</td>\n",
       "    </tr>\n",
       "    <tr>\n",
       "      <th>...</th>\n",
       "      <td>...</td>\n",
       "      <td>...</td>\n",
       "      <td>...</td>\n",
       "      <td>...</td>\n",
       "    </tr>\n",
       "    <tr>\n",
       "      <th>1045</th>\n",
       "      <td>17</td>\n",
       "      <td>13</td>\n",
       "      <td>80</td>\n",
       "      <td>2</td>\n",
       "    </tr>\n",
       "    <tr>\n",
       "      <th>1046</th>\n",
       "      <td>17</td>\n",
       "      <td>13</td>\n",
       "      <td>80</td>\n",
       "      <td>2</td>\n",
       "    </tr>\n",
       "    <tr>\n",
       "      <th>1047</th>\n",
       "      <td>16</td>\n",
       "      <td>12</td>\n",
       "      <td>80</td>\n",
       "      <td>2</td>\n",
       "    </tr>\n",
       "    <tr>\n",
       "      <th>1048</th>\n",
       "      <td>19</td>\n",
       "      <td>14</td>\n",
       "      <td>50</td>\n",
       "      <td>3</td>\n",
       "    </tr>\n",
       "    <tr>\n",
       "      <th>1049</th>\n",
       "      <td>26</td>\n",
       "      <td>19</td>\n",
       "      <td>50</td>\n",
       "      <td>2</td>\n",
       "    </tr>\n",
       "  </tbody>\n",
       "</table>\n",
       "<p>1050 rows × 4 columns</p>\n",
       "</div>"
      ],
      "text/plain": [
       "      high_temp  low_temp  rain_probability  count_car\n",
       "0            25        19                50          1\n",
       "1            26        20                50          0\n",
       "2            28        21                50          0\n",
       "3            28        20                30          1\n",
       "4            28        19                50          2\n",
       "...         ...       ...               ...        ...\n",
       "1045         17        13                80          2\n",
       "1046         17        13                80          2\n",
       "1047         16        12                80          2\n",
       "1048         19        14                50          3\n",
       "1049         26        19                50          2\n",
       "\n",
       "[1050 rows x 4 columns]"
      ]
     },
     "execution_count": 38,
     "metadata": {},
     "output_type": "execute_result"
    }
   ],
   "source": [
    "rak_features"
   ]
  },
  {
   "cell_type": "markdown",
   "id": "00e2f93a",
   "metadata": {},
   "source": [
    "# ПОШИРЕНІ ПЕРЕТВОРЕННЯ\n",
    "\n",
    "[link](https://books.irrp.org.ua/data-design/preobrazovaniya-dannyh/)\n",
    "\n",
    "<div class=\"vc_row wpb_row section vc_row-fluid\" style=\" text-align:left;\"><div class=\" full_section_inner clearfix\"><div class=\"wpb_column vc_column_container vc_col-sm-12\"><div class=\"vc_column-inner \"><div class=\"wpb_wrapper\"><div class=\"wpb_vc_table wpb_content_element\"><table class=\"vc-table-plugin-theme-classic_orange\"><tbody><tr class=\"vc-th\"><td style=\"text-align:left;background-color:#eeb11e;\" class=\"vc_table_cell\"><span class=\"vc_table_content\">Метод</span></td><td style=\"text-align:left;background-color:#eeb11e;\" class=\"vc_table_cell\"><span class=\"vc_table_content\">Математична операція</span></td><td style=\"text-align:left;background-color:#eeb11e;\" class=\"vc_table_cell\"><span class=\"vc_table_content\">Підходить для:</span></td><td style=\"text-align:left;background-color:#eeb11e;\" class=\"vc_table_cell\"><span class=\"vc_table_content\">Не підходить для::</span></td></tr><tr><td style=\"text-align:left;\" class=\"vc_table_cell\"><span class=\"vc_table_content\">Логарифм</span></td><td style=\"text-align:left;\" class=\"vc_table_cell\"><span class=\"vc_table_content\">ln(x)<br>\n",
    "log10(x)</span></td><td style=\"text-align:left;\" class=\"vc_table_cell\"><span class=\"vc_table_content\">Даних, зміщених праворуч</span></td><td style=\"text-align:left;\" class=\"vc_table_cell\"><span class=\"vc_table_content\">Нульових значень</span></td></tr><tr><td style=\"text-align:left;\" class=\"vc_table_cell\"><span class=\"vc_table_content\">Квадратний корінь</span></td><td style=\"text-align:left;\" class=\"vc_table_cell\"><span class=\"vc_table_content\">√x</span></td><td style=\"text-align:left;\" class=\"vc_table_cell\"><span class=\"vc_table_content\"> особливо добре працює зі ступенями 10 вищого порядку (наприклад, 1000, 100000)</span></td><td style=\"text-align:left;\" class=\"vc_table_cell\"><span class=\"vc_table_content\">Негативних значень</span></td></tr><tr><td style=\"text-align:left;\" class=\"vc_table_cell\"><span class=\"vc_table_content\">Квадрат</span></td><td style=\"text-align:left;\" class=\"vc_table_cell\"><span class=\"vc_table_content\">x²</span></td><td style=\"text-align:left;\" class=\"vc_table_cell\"><span class=\"vc_table_content\">Даних, зміщених праворуч</span></td><td style=\"text-align:left;\" class=\"vc_table_cell\"><span class=\"vc_table_content\">Негативних значень</span></td></tr><tr><td style=\"text-align:left;\" class=\"vc_table_cell\"><span class=\"vc_table_content\">Корінь кубічний</span></td><td style=\"text-align:left;\" class=\"vc_table_cell\"><span class=\"vc_table_content\">x⅓</span></td><td style=\"text-align:left;\" class=\"vc_table_cell\"><span class=\"vc_table_content\">Даних, зміщених вліво</span></td><td style=\"text-align:left;\" class=\"vc_table_cell\"><span class=\"vc_table_content\">Негативних значень</span></td></tr><tr><td style=\"text-align:left;\" class=\"vc_table_cell\"><span class=\"vc_table_content\">Зворотний дріб</span></td><td style=\"text-align:left;\" class=\"vc_table_cell\"><span class=\"vc_table_content\">1/x</span></td><td style=\"text-align:left;\" class=\"vc_table_cell\"><span class=\"vc_table_content\">Даних, зміщених праворуч</span></td><td style=\"text-align:left;\" class=\"vc_table_cell\"><span class=\"vc_table_content\">Не таке ефективне при нормалізації, як логарифмічне перетворення</span></td></tr></tbody></table></div></div></div></div></div></div>"
   ]
  },
  {
   "cell_type": "code",
   "execution_count": null,
   "id": "87aa9414",
   "metadata": {},
   "outputs": [],
   "source": []
  },
  {
   "cell_type": "code",
   "execution_count": 39,
   "id": "b5d6d369",
   "metadata": {},
   "outputs": [
    {
     "data": {
      "text/html": [
       "<div>\n",
       "<style scoped>\n",
       "    .dataframe tbody tr th:only-of-type {\n",
       "        vertical-align: middle;\n",
       "    }\n",
       "\n",
       "    .dataframe tbody tr th {\n",
       "        vertical-align: top;\n",
       "    }\n",
       "\n",
       "    .dataframe thead th {\n",
       "        text-align: right;\n",
       "    }\n",
       "</style>\n",
       "<table border=\"1\" class=\"dataframe\">\n",
       "  <thead>\n",
       "    <tr style=\"text-align: right;\">\n",
       "      <th></th>\n",
       "      <th>high_temp</th>\n",
       "      <th>low_temp</th>\n",
       "      <th>rain_probability</th>\n",
       "      <th>count_car</th>\n",
       "    </tr>\n",
       "  </thead>\n",
       "  <tbody>\n",
       "    <tr>\n",
       "      <th>0</th>\n",
       "      <td>2.924018</td>\n",
       "      <td>2.668402</td>\n",
       "      <td>3.684031</td>\n",
       "      <td>1.000000</td>\n",
       "    </tr>\n",
       "    <tr>\n",
       "      <th>1</th>\n",
       "      <td>2.962496</td>\n",
       "      <td>2.714418</td>\n",
       "      <td>3.684031</td>\n",
       "      <td>0.000000</td>\n",
       "    </tr>\n",
       "    <tr>\n",
       "      <th>2</th>\n",
       "      <td>3.036589</td>\n",
       "      <td>2.758924</td>\n",
       "      <td>3.684031</td>\n",
       "      <td>0.000000</td>\n",
       "    </tr>\n",
       "    <tr>\n",
       "      <th>3</th>\n",
       "      <td>3.036589</td>\n",
       "      <td>2.714418</td>\n",
       "      <td>3.107233</td>\n",
       "      <td>1.000000</td>\n",
       "    </tr>\n",
       "    <tr>\n",
       "      <th>4</th>\n",
       "      <td>3.036589</td>\n",
       "      <td>2.668402</td>\n",
       "      <td>3.684031</td>\n",
       "      <td>1.259921</td>\n",
       "    </tr>\n",
       "    <tr>\n",
       "      <th>...</th>\n",
       "      <td>...</td>\n",
       "      <td>...</td>\n",
       "      <td>...</td>\n",
       "      <td>...</td>\n",
       "    </tr>\n",
       "    <tr>\n",
       "      <th>1045</th>\n",
       "      <td>2.571282</td>\n",
       "      <td>2.351335</td>\n",
       "      <td>4.308869</td>\n",
       "      <td>1.259921</td>\n",
       "    </tr>\n",
       "    <tr>\n",
       "      <th>1046</th>\n",
       "      <td>2.571282</td>\n",
       "      <td>2.351335</td>\n",
       "      <td>4.308869</td>\n",
       "      <td>1.259921</td>\n",
       "    </tr>\n",
       "    <tr>\n",
       "      <th>1047</th>\n",
       "      <td>2.519842</td>\n",
       "      <td>2.289428</td>\n",
       "      <td>4.308869</td>\n",
       "      <td>1.259921</td>\n",
       "    </tr>\n",
       "    <tr>\n",
       "      <th>1048</th>\n",
       "      <td>2.668402</td>\n",
       "      <td>2.410142</td>\n",
       "      <td>3.684031</td>\n",
       "      <td>1.442250</td>\n",
       "    </tr>\n",
       "    <tr>\n",
       "      <th>1049</th>\n",
       "      <td>2.962496</td>\n",
       "      <td>2.668402</td>\n",
       "      <td>3.684031</td>\n",
       "      <td>1.259921</td>\n",
       "    </tr>\n",
       "  </tbody>\n",
       "</table>\n",
       "<p>1050 rows × 4 columns</p>\n",
       "</div>"
      ],
      "text/plain": [
       "      high_temp  low_temp  rain_probability  count_car\n",
       "0      2.924018  2.668402          3.684031   1.000000\n",
       "1      2.962496  2.714418          3.684031   0.000000\n",
       "2      3.036589  2.758924          3.684031   0.000000\n",
       "3      3.036589  2.714418          3.107233   1.000000\n",
       "4      3.036589  2.668402          3.684031   1.259921\n",
       "...         ...       ...               ...        ...\n",
       "1045   2.571282  2.351335          4.308869   1.259921\n",
       "1046   2.571282  2.351335          4.308869   1.259921\n",
       "1047   2.519842  2.289428          4.308869   1.259921\n",
       "1048   2.668402  2.410142          3.684031   1.442250\n",
       "1049   2.962496  2.668402          3.684031   1.259921\n",
       "\n",
       "[1050 rows x 4 columns]"
      ]
     },
     "execution_count": 39,
     "metadata": {},
     "output_type": "execute_result"
    }
   ],
   "source": [
    "rak_features = rak[['high_temp', 'low_temp', 'rain_probability', 'count_car']]\n",
    "import numpy as np\n",
    "cube_root = lambda x: x**(1/3)\n",
    "for feature in rak_features.columns:\n",
    "    rak_features[f'{feature}'] = rak_features[f'{feature}'].apply(cube_root)\n",
    "rak_features"
   ]
  },
  {
   "cell_type": "code",
   "execution_count": 40,
   "id": "19dc6707",
   "metadata": {},
   "outputs": [
    {
     "data": {
      "image/png": "[encoded data removed]",
      "text/plain": [
       "<Figure size 720x720 with 16 Axes>"
      ]
     },
     "metadata": {
      "needs_background": "light"
     },
     "output_type": "display_data"
    }
   ],
   "source": [
    "# rak_features = rak[['high_temp', 'low_temp', 'rain_probability', 'Japan', 'count_car']]\n",
    "axes = pd.plotting.scatter_matrix(rak_features, figsize=(10,10), diagonal='kde', grid=True)\n",
    "corr = rak_features.corr().values\n",
    "for i, j in zip(*plt.np.triu_indices_from(axes, k=1)):\n",
    "    axes[i, j].annotate(\"%.3f\" %corr[i,j], (0.8, 0.8), xycoords='axes fraction', ha='center', va='center')\n",
    "plt.show()"
   ]
  },
  {
   "cell_type": "code",
   "execution_count": 41,
   "id": "f681d3b2",
   "metadata": {},
   "outputs": [
    {
     "name": "stdout",
     "output_type": "stream",
     "text": [
      "=========================high_temp=========================\n",
      "KstestResult\n",
      "statistic=0.9931724769828082 pvalue=0.0 < 0.05, data does NOT look NORMAL (reject H0)\n",
      "!!!\n",
      "LillieforsResult\n",
      "statistic=0.09162764400151097 pvalue=0.0009999999999998899 < 0.05, data does NOT look NORMAL (reject H0)\n",
      "!!!\n",
      "ShapiroResult\n",
      "statistic=0.9539426565170288 pvalue=1.2293755959929497e-17 < 0.05, data does NOT look NORMAL (reject H0)\n",
      "!!!\n",
      "AndersonDarlingResult\n",
      "Statistic: 9.860\n",
      "15.000: 0.574, data does not look normal (reject H0)\n",
      "!!!\n",
      "10.000: 0.654, data does not look normal (reject H0)\n",
      "!!!\n",
      "5.000: 0.784, data does not look normal (reject H0)\n",
      "!!!\n",
      "2.500: 0.915, data does not look normal (reject H0)\n",
      "!!!\n",
      "1.000: 1.088, data does not look normal (reject H0)\n",
      "!!!\n",
      "=========================low_temp=========================\n",
      "KstestResult\n",
      "statistic=0.988972765666552 pvalue=0.0 < 0.05, data does NOT look NORMAL (reject H0)\n",
      "!!!\n",
      "LillieforsResult\n",
      "statistic=0.18203137434255012 pvalue=0.0009999999999998899 < 0.05, data does NOT look NORMAL (reject H0)\n",
      "!!!\n",
      "ShapiroResult\n",
      "statistic=0.9078136682510376 pvalue=1.0805243769485003e-24 < 0.05, data does NOT look NORMAL (reject H0)\n",
      "!!!\n",
      "AndersonDarlingResult\n",
      "Statistic: 30.216\n",
      "15.000: 0.574, data does not look normal (reject H0)\n",
      "!!!\n",
      "10.000: 0.654, data does not look normal (reject H0)\n",
      "!!!\n",
      "5.000: 0.784, data does not look normal (reject H0)\n",
      "!!!\n",
      "2.500: 0.915, data does not look normal (reject H0)\n",
      "!!!\n",
      "1.000: 1.088, data does not look normal (reject H0)\n",
      "!!!\n",
      "=========================rain_probability=========================\n",
      "KstestResult\n",
      "statistic=0.6310636173854147 pvalue=0.0 < 0.05, data does NOT look NORMAL (reject H0)\n",
      "!!!\n",
      "LillieforsResult\n",
      "statistic=0.25111888948688915 pvalue=0.0009999999999998899 < 0.05, data does NOT look NORMAL (reject H0)\n",
      "!!!\n",
      "ShapiroResult\n",
      "statistic=0.8015227913856506 pvalue=5.648117653409143e-34 < 0.05, data does NOT look NORMAL (reject H0)\n",
      "!!!\n",
      "AndersonDarlingResult\n",
      "Statistic: 85.235\n",
      "15.000: 0.574, data does not look normal (reject H0)\n",
      "!!!\n",
      "10.000: 0.654, data does not look normal (reject H0)\n",
      "!!!\n",
      "5.000: 0.784, data does not look normal (reject H0)\n",
      "!!!\n",
      "2.500: 0.915, data does not look normal (reject H0)\n",
      "!!!\n",
      "1.000: 1.088, data does not look normal (reject H0)\n",
      "!!!\n",
      "=========================count_car=========================\n",
      "KstestResult\n",
      "statistic=0.7280114127352096 pvalue=0.0 < 0.05, data does NOT look NORMAL (reject H0)\n",
      "!!!\n",
      "LillieforsResult\n",
      "statistic=0.20289460255822206 pvalue=0.0009999999999998899 < 0.05, data does NOT look NORMAL (reject H0)\n",
      "!!!\n",
      "ShapiroResult\n",
      "statistic=0.8868167400360107 pvalue=5.045478082967794e-27 < 0.05, data does NOT look NORMAL (reject H0)\n",
      "!!!\n",
      "AndersonDarlingResult\n",
      "Statistic: 40.264\n",
      "15.000: 0.574, data does not look normal (reject H0)\n",
      "!!!\n",
      "10.000: 0.654, data does not look normal (reject H0)\n",
      "!!!\n",
      "5.000: 0.784, data does not look normal (reject H0)\n",
      "!!!\n",
      "2.500: 0.915, data does not look normal (reject H0)\n",
      "!!!\n",
      "1.000: 1.088, data does not look normal (reject H0)\n",
      "!!!\n"
     ]
    }
   ],
   "source": [
    "for feature in rak_features.columns:\n",
    "    print(f'========================={feature}=========================')\n",
    "    KS(rak_features[f'{feature}'])\n",
    "    Lilliefors_test(rak_features[f'{feature}'])\n",
    "    Shapiro(rak_features[f'{feature}'])\n",
    "    Anderson_Darling_test(rak_features[f'{feature}'])"
   ]
  },
  {
   "cell_type": "code",
   "execution_count": null,
   "id": "c668c11e",
   "metadata": {},
   "outputs": [],
   "source": []
  }
 ],
 "metadata": {
  "kernelspec": {
   "display_name": "Python 3 (ipykernel)",
   "language": "python",
   "name": "python3"
  },
  "language_info": {
   "codemirror_mode": {
    "name": "ipython",
    "version": 3
   },
   "file_extension": ".py",
   "mimetype": "text/x-python",
   "name": "python",
   "nbconvert_exporter": "python",
   "pygments_lexer": "ipython3",
   "version": "3.10.5"
  }
 },
 "nbformat": 4,
 "nbformat_minor": 5
}
