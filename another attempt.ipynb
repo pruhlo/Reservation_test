{
 "cells": [
  {
   "cell_type": "code",
   "execution_count": 1,
   "id": "c91f1b07",
   "metadata": {},
   "outputs": [],
   "source": [
    "import pandas as pd\n",
    "\n",
    "import warnings\n",
    "warnings.filterwarnings('ignore')"
   ]
  },
  {
   "cell_type": "markdown",
   "id": "43cb3ee6",
   "metadata": {},
   "source": [
    "# Завантажемо дані з отриманих у `\"variable analysis.ipynb\"`"
   ]
  },
  {
   "cell_type": "code",
   "execution_count": 2,
   "id": "920c71d5",
   "metadata": {},
   "outputs": [
    {
     "name": "stdout",
     "output_type": "stream",
     "text": [
      "<class 'pandas.core.frame.DataFrame'>\n",
      "Int64Index: 1050 entries, 0 to 1049\n",
      "Data columns (total 7 columns):\n",
      " #   Column            Non-Null Count  Dtype         \n",
      "---  ------            --------------  -----         \n",
      " 0   count_car         1050 non-null   int64         \n",
      " 1   date              1050 non-null   datetime64[ns]\n",
      " 2   just_date         1050 non-null   datetime64[ns]\n",
      " 3   Japan             1050 non-null   int64         \n",
      " 4   high_temp         1050 non-null   int64         \n",
      " 5   low_temp          1050 non-null   int64         \n",
      " 6   rain_probability  1050 non-null   int64         \n",
      "dtypes: datetime64[ns](2), int64(5)\n",
      "memory usage: 65.6 KB\n"
     ]
    }
   ],
   "source": [
    "rakuten_modified_df = pd.read_excel('rakuten_modified.xlsx', index_col=0)\n",
    "rakuten_modified_df.info()"
   ]
  },
  {
   "cell_type": "markdown",
   "id": "8b7c2483",
   "metadata": {},
   "source": [
    "# Спробую трансформувати лише колонку з заброньованими авто:"
   ]
  },
  {
   "cell_type": "code",
   "execution_count": 31,
   "id": "dddd7ccc",
   "metadata": {},
   "outputs": [],
   "source": [
    "# Залишимо дату замовлення та кількість замовлених авто\n",
    "df = rakuten_modified_df.set_index('just_date')['count_car'].to_frame()"
   ]
  },
  {
   "cell_type": "code",
   "execution_count": 32,
   "id": "01074c6e",
   "metadata": {},
   "outputs": [
    {
     "data": {
      "text/html": [
       "<div>\n",
       "<style scoped>\n",
       "    .dataframe tbody tr th:only-of-type {\n",
       "        vertical-align: middle;\n",
       "    }\n",
       "\n",
       "    .dataframe tbody tr th {\n",
       "        vertical-align: top;\n",
       "    }\n",
       "\n",
       "    .dataframe thead th {\n",
       "        text-align: right;\n",
       "    }\n",
       "</style>\n",
       "<table border=\"1\" class=\"dataframe\">\n",
       "  <thead>\n",
       "    <tr style=\"text-align: right;\">\n",
       "      <th></th>\n",
       "      <th>count_car</th>\n",
       "    </tr>\n",
       "    <tr>\n",
       "      <th>just_date</th>\n",
       "      <th></th>\n",
       "    </tr>\n",
       "  </thead>\n",
       "  <tbody>\n",
       "    <tr>\n",
       "      <th>2016-02-16</th>\n",
       "      <td>1</td>\n",
       "    </tr>\n",
       "    <tr>\n",
       "      <th>2016-02-17</th>\n",
       "      <td>0</td>\n",
       "    </tr>\n",
       "    <tr>\n",
       "      <th>2016-02-18</th>\n",
       "      <td>0</td>\n",
       "    </tr>\n",
       "    <tr>\n",
       "      <th>2016-02-19</th>\n",
       "      <td>1</td>\n",
       "    </tr>\n",
       "    <tr>\n",
       "      <th>2016-02-20</th>\n",
       "      <td>2</td>\n",
       "    </tr>\n",
       "  </tbody>\n",
       "</table>\n",
       "</div>"
      ],
      "text/plain": [
       "            count_car\n",
       "just_date            \n",
       "2016-02-16          1\n",
       "2016-02-17          0\n",
       "2016-02-18          0\n",
       "2016-02-19          1\n",
       "2016-02-20          2"
      ]
     },
     "execution_count": 32,
     "metadata": {},
     "output_type": "execute_result"
    }
   ],
   "source": [
    "df.head()"
   ]
  },
  {
   "cell_type": "markdown",
   "id": "028b7e05",
   "metadata": {},
   "source": [
    "# Перевірка на стаціонарність"
   ]
  },
  {
   "cell_type": "code",
   "execution_count": 7,
   "id": "7002d99f",
   "metadata": {},
   "outputs": [
    {
     "name": "stdout",
     "output_type": "stream",
     "text": [
      "Критерій Дікі-Фуллера: p=0.0137\n"
     ]
    },
    {
     "data": {
      "image/png": "[encoded data removed]",
      "text/plain": [
       "<Figure size 432x288 with 1 Axes>"
      ]
     },
     "metadata": {
      "needs_background": "light"
     },
     "output_type": "display_data"
    }
   ],
   "source": [
    "import statsmodels.api as sm\n",
    "import matplotlib.pyplot as plt\n",
    "\n",
    "# Якщо p-value цього критерію менше, ніж 𝛼=0.05, то ряд стаціонарний.\n",
    "print(f'Критерій Дікі-Фуллера: p={sm.tsa.stattools.adfuller(df)[1]:.4f}')\n",
    "sm.tsa.seasonal_decompose(df).trend.plot()\n",
    "plt.show()"
   ]
  },
  {
   "cell_type": "markdown",
   "id": "31e17c3a",
   "metadata": {},
   "source": [
    "# Бокс-Кокс трансформація\n",
    "### (так як у наших даних присутні нулі ДОДАЄМО одиницю)"
   ]
  },
  {
   "cell_type": "code",
   "execution_count": 33,
   "id": "04675f39",
   "metadata": {},
   "outputs": [],
   "source": [
    "from scipy import stats\n",
    "# from scipy.special import inv_boxcox\n",
    "\n",
    "f = lambda x: x+1\n",
    "df['boxcox'], lmbda = stats.boxcox(df.count_car.apply(f))"
   ]
  },
  {
   "cell_type": "code",
   "execution_count": 11,
   "id": "c6f7b835",
   "metadata": {},
   "outputs": [
    {
     "name": "stdout",
     "output_type": "stream",
     "text": [
      "Критерій Дікі-Фуллера: p=0.0173\n"
     ]
    },
    {
     "data": {
      "image/png": "[encoded data removed]",
      "text/plain": [
       "<Figure size 432x288 with 1 Axes>"
      ]
     },
     "metadata": {
      "needs_background": "light"
     },
     "output_type": "display_data"
    }
   ],
   "source": [
    "print(f'Критерій Дікі-Фуллера: p={sm.tsa.stattools.adfuller(df.boxcox)[1]:.4f}')\n",
    "sm.tsa.seasonal_decompose(df.boxcox).trend.plot()\n",
    "plt.show()"
   ]
  },
  {
   "cell_type": "markdown",
   "id": "589bda26",
   "metadata": {},
   "source": [
    "# позбавляємось сезонності\n",
    "\n",
    "Проведемо сезонне диференціювання. Довжина сезону у нашому випадку дорівнює 12."
   ]
  },
  {
   "cell_type": "code",
   "execution_count": 34,
   "id": "29714ef2",
   "metadata": {},
   "outputs": [
    {
     "name": "stdout",
     "output_type": "stream",
     "text": [
      "Критерий Дики-Фуллера: p-value=0.0000\n"
     ]
    },
    {
     "data": {
      "text/plain": [
       "[]"
      ]
     },
     "execution_count": 34,
     "metadata": {},
     "output_type": "execute_result"
    },
    {
     "data": {
      "image/png": "[encoded data removed]",
      "text/plain": [
       "<Figure size 432x288 with 1 Axes>"
      ]
     },
     "metadata": {
      "needs_background": "light"
     },
     "output_type": "display_data"
    }
   ],
   "source": [
    "from scipy import stats\n",
    "# from scipy.special import inv_boxcox\n",
    "\n",
    "df['boxcox_shifted_S'] = df.boxcox - df.boxcox.shift(12)\n",
    "\n",
    "p = sm.tsa.stattools.adfuller(df.boxcox_shifted_S[12:])[1]\n",
    "print(f'Критерій Дікі-Фуллера: p-value={p:.4f}')\n",
    "\n",
    "df.boxcox_shifted_S[12:].plot()\n",
    "plt.plot()"
   ]
  },
  {
   "cell_type": "markdown",
   "id": "d86ea8fe",
   "metadata": {},
   "source": [
    "# Повернемо предиктори погоди, свят та додамо нові часові:"
   ]
  },
  {
   "cell_type": "code",
   "execution_count": 35,
   "id": "132ad931",
   "metadata": {},
   "outputs": [
    {
     "data": {
      "text/plain": [
       "just_date\n",
       "2016-02-28    0.762756\n",
       "2016-02-29    1.155972\n",
       "2016-03-01    1.155972\n",
       "2016-03-02    0.440277\n",
       "2016-03-03    0.322479\n",
       "                ...   \n",
       "2018-12-27    0.440277\n",
       "2018-12-28   -0.578550\n",
       "2018-12-29   -0.578550\n",
       "2018-12-30    0.322479\n",
       "2018-12-31    0.440277\n",
       "Name: boxcox_shifted_S, Length: 1038, dtype: float64"
      ]
     },
     "execution_count": 35,
     "metadata": {},
     "output_type": "execute_result"
    }
   ],
   "source": [
    "df[12:]['boxcox_shifted_S']"
   ]
  },
  {
   "cell_type": "code",
   "execution_count": 99,
   "id": "77dcc3a8",
   "metadata": {},
   "outputs": [],
   "source": [
    "df_with_predictors = df.merge(rakuten_modified_df, on=['just_date'])\n"
   ]
  },
  {
   "cell_type": "code",
   "execution_count": 100,
   "id": "b7d353ec",
   "metadata": {},
   "outputs": [],
   "source": [
    "df_with_predictors = df_with_predictors.set_index('just_date')"
   ]
  },
  {
   "cell_type": "code",
   "execution_count": 101,
   "id": "395dd8a6",
   "metadata": {},
   "outputs": [],
   "source": [
    "# Позбудемося зайвих колонок\n",
    "df_with_predictors = df_with_predictors[12:][['boxcox_shifted_S', 'Japan', 'high_temp', 'low_temp', 'rain_probability']]"
   ]
  },
  {
   "cell_type": "code",
   "execution_count": 102,
   "id": "5e1250a8",
   "metadata": {},
   "outputs": [
    {
     "data": {
      "text/html": [
       "<div>\n",
       "<style scoped>\n",
       "    .dataframe tbody tr th:only-of-type {\n",
       "        vertical-align: middle;\n",
       "    }\n",
       "\n",
       "    .dataframe tbody tr th {\n",
       "        vertical-align: top;\n",
       "    }\n",
       "\n",
       "    .dataframe thead th {\n",
       "        text-align: right;\n",
       "    }\n",
       "</style>\n",
       "<table border=\"1\" class=\"dataframe\">\n",
       "  <thead>\n",
       "    <tr style=\"text-align: right;\">\n",
       "      <th></th>\n",
       "      <th>boxcox_shifted_S</th>\n",
       "      <th>Japan</th>\n",
       "      <th>high_temp</th>\n",
       "      <th>low_temp</th>\n",
       "      <th>rain_probability</th>\n",
       "    </tr>\n",
       "    <tr>\n",
       "      <th>just_date</th>\n",
       "      <th></th>\n",
       "      <th></th>\n",
       "      <th></th>\n",
       "      <th></th>\n",
       "      <th></th>\n",
       "    </tr>\n",
       "  </thead>\n",
       "  <tbody>\n",
       "    <tr>\n",
       "      <th>2016-02-28</th>\n",
       "      <td>0.762756</td>\n",
       "      <td>0</td>\n",
       "      <td>26</td>\n",
       "      <td>22</td>\n",
       "      <td>20</td>\n",
       "    </tr>\n",
       "    <tr>\n",
       "      <th>2016-02-29</th>\n",
       "      <td>1.155972</td>\n",
       "      <td>0</td>\n",
       "      <td>28</td>\n",
       "      <td>21</td>\n",
       "      <td>20</td>\n",
       "    </tr>\n",
       "    <tr>\n",
       "      <th>2016-03-01</th>\n",
       "      <td>1.155972</td>\n",
       "      <td>0</td>\n",
       "      <td>27</td>\n",
       "      <td>22</td>\n",
       "      <td>20</td>\n",
       "    </tr>\n",
       "    <tr>\n",
       "      <th>2016-03-02</th>\n",
       "      <td>0.440277</td>\n",
       "      <td>0</td>\n",
       "      <td>27</td>\n",
       "      <td>22</td>\n",
       "      <td>20</td>\n",
       "    </tr>\n",
       "    <tr>\n",
       "      <th>2016-03-03</th>\n",
       "      <td>0.322479</td>\n",
       "      <td>0</td>\n",
       "      <td>27</td>\n",
       "      <td>22</td>\n",
       "      <td>20</td>\n",
       "    </tr>\n",
       "    <tr>\n",
       "      <th>...</th>\n",
       "      <td>...</td>\n",
       "      <td>...</td>\n",
       "      <td>...</td>\n",
       "      <td>...</td>\n",
       "      <td>...</td>\n",
       "    </tr>\n",
       "    <tr>\n",
       "      <th>2018-12-27</th>\n",
       "      <td>0.440277</td>\n",
       "      <td>0</td>\n",
       "      <td>17</td>\n",
       "      <td>13</td>\n",
       "      <td>80</td>\n",
       "    </tr>\n",
       "    <tr>\n",
       "      <th>2018-12-28</th>\n",
       "      <td>-0.578550</td>\n",
       "      <td>0</td>\n",
       "      <td>17</td>\n",
       "      <td>13</td>\n",
       "      <td>80</td>\n",
       "    </tr>\n",
       "    <tr>\n",
       "      <th>2018-12-29</th>\n",
       "      <td>-0.578550</td>\n",
       "      <td>0</td>\n",
       "      <td>16</td>\n",
       "      <td>12</td>\n",
       "      <td>80</td>\n",
       "    </tr>\n",
       "    <tr>\n",
       "      <th>2018-12-30</th>\n",
       "      <td>0.322479</td>\n",
       "      <td>0</td>\n",
       "      <td>19</td>\n",
       "      <td>14</td>\n",
       "      <td>50</td>\n",
       "    </tr>\n",
       "    <tr>\n",
       "      <th>2018-12-31</th>\n",
       "      <td>0.440277</td>\n",
       "      <td>0</td>\n",
       "      <td>26</td>\n",
       "      <td>19</td>\n",
       "      <td>50</td>\n",
       "    </tr>\n",
       "  </tbody>\n",
       "</table>\n",
       "<p>1038 rows × 5 columns</p>\n",
       "</div>"
      ],
      "text/plain": [
       "            boxcox_shifted_S  Japan  high_temp  low_temp  rain_probability\n",
       "just_date                                                                 \n",
       "2016-02-28          0.762756      0         26        22                20\n",
       "2016-02-29          1.155972      0         28        21                20\n",
       "2016-03-01          1.155972      0         27        22                20\n",
       "2016-03-02          0.440277      0         27        22                20\n",
       "2016-03-03          0.322479      0         27        22                20\n",
       "...                      ...    ...        ...       ...               ...\n",
       "2018-12-27          0.440277      0         17        13                80\n",
       "2018-12-28         -0.578550      0         17        13                80\n",
       "2018-12-29         -0.578550      0         16        12                80\n",
       "2018-12-30          0.322479      0         19        14                50\n",
       "2018-12-31          0.440277      0         26        19                50\n",
       "\n",
       "[1038 rows x 5 columns]"
      ]
     },
     "execution_count": 102,
     "metadata": {},
     "output_type": "execute_result"
    }
   ],
   "source": [
    "df_with_predictors"
   ]
  },
  {
   "cell_type": "markdown",
   "id": "29b903cd",
   "metadata": {},
   "source": [
    "# Додамо предиктори часу:"
   ]
  },
  {
   "cell_type": "code",
   "execution_count": 103,
   "id": "a8515115",
   "metadata": {},
   "outputs": [],
   "source": [
    "def create_features(df, label=None):\n",
    "    \"\"\"\n",
    "    Creates time series features from datetime index\n",
    "    \"\"\"\n",
    "    df['date'] = df.index\n",
    "    df['dayofweek'] = df['date'].dt.dayofweek\n",
    "    df['quarter'] = df['date'].dt.quarter\n",
    "    df['month'] = df['date'].dt.month\n",
    "    df['year'] = df['date'].dt.year\n",
    "    df['dayofyear'] = df['date'].dt.dayofyear\n",
    "    df['dayofmonth'] = df['date'].dt.day\n",
    "    df['weekofyear'] = df['date'].dt.weekofyear\n",
    "    df.pop('date')\n",
    "\n",
    "    return df\n"
   ]
  },
  {
   "cell_type": "code",
   "execution_count": 104,
   "id": "88df5319",
   "metadata": {},
   "outputs": [
    {
     "data": {
      "text/html": [
       "<div>\n",
       "<style scoped>\n",
       "    .dataframe tbody tr th:only-of-type {\n",
       "        vertical-align: middle;\n",
       "    }\n",
       "\n",
       "    .dataframe tbody tr th {\n",
       "        vertical-align: top;\n",
       "    }\n",
       "\n",
       "    .dataframe thead th {\n",
       "        text-align: right;\n",
       "    }\n",
       "</style>\n",
       "<table border=\"1\" class=\"dataframe\">\n",
       "  <thead>\n",
       "    <tr style=\"text-align: right;\">\n",
       "      <th></th>\n",
       "      <th>boxcox_shifted_S</th>\n",
       "      <th>Japan</th>\n",
       "      <th>high_temp</th>\n",
       "      <th>low_temp</th>\n",
       "      <th>rain_probability</th>\n",
       "      <th>dayofweek</th>\n",
       "      <th>quarter</th>\n",
       "      <th>month</th>\n",
       "      <th>year</th>\n",
       "      <th>dayofyear</th>\n",
       "      <th>dayofmonth</th>\n",
       "      <th>weekofyear</th>\n",
       "    </tr>\n",
       "    <tr>\n",
       "      <th>just_date</th>\n",
       "      <th></th>\n",
       "      <th></th>\n",
       "      <th></th>\n",
       "      <th></th>\n",
       "      <th></th>\n",
       "      <th></th>\n",
       "      <th></th>\n",
       "      <th></th>\n",
       "      <th></th>\n",
       "      <th></th>\n",
       "      <th></th>\n",
       "      <th></th>\n",
       "    </tr>\n",
       "  </thead>\n",
       "  <tbody>\n",
       "    <tr>\n",
       "      <th>2016-02-28</th>\n",
       "      <td>0.762756</td>\n",
       "      <td>0</td>\n",
       "      <td>26</td>\n",
       "      <td>22</td>\n",
       "      <td>20</td>\n",
       "      <td>6</td>\n",
       "      <td>1</td>\n",
       "      <td>2</td>\n",
       "      <td>2016</td>\n",
       "      <td>59</td>\n",
       "      <td>28</td>\n",
       "      <td>8</td>\n",
       "    </tr>\n",
       "    <tr>\n",
       "      <th>2016-02-29</th>\n",
       "      <td>1.155972</td>\n",
       "      <td>0</td>\n",
       "      <td>28</td>\n",
       "      <td>21</td>\n",
       "      <td>20</td>\n",
       "      <td>0</td>\n",
       "      <td>1</td>\n",
       "      <td>2</td>\n",
       "      <td>2016</td>\n",
       "      <td>60</td>\n",
       "      <td>29</td>\n",
       "      <td>9</td>\n",
       "    </tr>\n",
       "    <tr>\n",
       "      <th>2016-03-01</th>\n",
       "      <td>1.155972</td>\n",
       "      <td>0</td>\n",
       "      <td>27</td>\n",
       "      <td>22</td>\n",
       "      <td>20</td>\n",
       "      <td>1</td>\n",
       "      <td>1</td>\n",
       "      <td>3</td>\n",
       "      <td>2016</td>\n",
       "      <td>61</td>\n",
       "      <td>1</td>\n",
       "      <td>9</td>\n",
       "    </tr>\n",
       "    <tr>\n",
       "      <th>2016-03-02</th>\n",
       "      <td>0.440277</td>\n",
       "      <td>0</td>\n",
       "      <td>27</td>\n",
       "      <td>22</td>\n",
       "      <td>20</td>\n",
       "      <td>2</td>\n",
       "      <td>1</td>\n",
       "      <td>3</td>\n",
       "      <td>2016</td>\n",
       "      <td>62</td>\n",
       "      <td>2</td>\n",
       "      <td>9</td>\n",
       "    </tr>\n",
       "    <tr>\n",
       "      <th>2016-03-03</th>\n",
       "      <td>0.322479</td>\n",
       "      <td>0</td>\n",
       "      <td>27</td>\n",
       "      <td>22</td>\n",
       "      <td>20</td>\n",
       "      <td>3</td>\n",
       "      <td>1</td>\n",
       "      <td>3</td>\n",
       "      <td>2016</td>\n",
       "      <td>63</td>\n",
       "      <td>3</td>\n",
       "      <td>9</td>\n",
       "    </tr>\n",
       "    <tr>\n",
       "      <th>...</th>\n",
       "      <td>...</td>\n",
       "      <td>...</td>\n",
       "      <td>...</td>\n",
       "      <td>...</td>\n",
       "      <td>...</td>\n",
       "      <td>...</td>\n",
       "      <td>...</td>\n",
       "      <td>...</td>\n",
       "      <td>...</td>\n",
       "      <td>...</td>\n",
       "      <td>...</td>\n",
       "      <td>...</td>\n",
       "    </tr>\n",
       "    <tr>\n",
       "      <th>2018-12-27</th>\n",
       "      <td>0.440277</td>\n",
       "      <td>0</td>\n",
       "      <td>17</td>\n",
       "      <td>13</td>\n",
       "      <td>80</td>\n",
       "      <td>3</td>\n",
       "      <td>4</td>\n",
       "      <td>12</td>\n",
       "      <td>2018</td>\n",
       "      <td>361</td>\n",
       "      <td>27</td>\n",
       "      <td>52</td>\n",
       "    </tr>\n",
       "    <tr>\n",
       "      <th>2018-12-28</th>\n",
       "      <td>-0.578550</td>\n",
       "      <td>0</td>\n",
       "      <td>17</td>\n",
       "      <td>13</td>\n",
       "      <td>80</td>\n",
       "      <td>4</td>\n",
       "      <td>4</td>\n",
       "      <td>12</td>\n",
       "      <td>2018</td>\n",
       "      <td>362</td>\n",
       "      <td>28</td>\n",
       "      <td>52</td>\n",
       "    </tr>\n",
       "    <tr>\n",
       "      <th>2018-12-29</th>\n",
       "      <td>-0.578550</td>\n",
       "      <td>0</td>\n",
       "      <td>16</td>\n",
       "      <td>12</td>\n",
       "      <td>80</td>\n",
       "      <td>5</td>\n",
       "      <td>4</td>\n",
       "      <td>12</td>\n",
       "      <td>2018</td>\n",
       "      <td>363</td>\n",
       "      <td>29</td>\n",
       "      <td>52</td>\n",
       "    </tr>\n",
       "    <tr>\n",
       "      <th>2018-12-30</th>\n",
       "      <td>0.322479</td>\n",
       "      <td>0</td>\n",
       "      <td>19</td>\n",
       "      <td>14</td>\n",
       "      <td>50</td>\n",
       "      <td>6</td>\n",
       "      <td>4</td>\n",
       "      <td>12</td>\n",
       "      <td>2018</td>\n",
       "      <td>364</td>\n",
       "      <td>30</td>\n",
       "      <td>52</td>\n",
       "    </tr>\n",
       "    <tr>\n",
       "      <th>2018-12-31</th>\n",
       "      <td>0.440277</td>\n",
       "      <td>0</td>\n",
       "      <td>26</td>\n",
       "      <td>19</td>\n",
       "      <td>50</td>\n",
       "      <td>0</td>\n",
       "      <td>4</td>\n",
       "      <td>12</td>\n",
       "      <td>2018</td>\n",
       "      <td>365</td>\n",
       "      <td>31</td>\n",
       "      <td>1</td>\n",
       "    </tr>\n",
       "  </tbody>\n",
       "</table>\n",
       "<p>1038 rows × 12 columns</p>\n",
       "</div>"
      ],
      "text/plain": [
       "            boxcox_shifted_S  Japan  high_temp  low_temp  rain_probability  \\\n",
       "just_date                                                                    \n",
       "2016-02-28          0.762756      0         26        22                20   \n",
       "2016-02-29          1.155972      0         28        21                20   \n",
       "2016-03-01          1.155972      0         27        22                20   \n",
       "2016-03-02          0.440277      0         27        22                20   \n",
       "2016-03-03          0.322479      0         27        22                20   \n",
       "...                      ...    ...        ...       ...               ...   \n",
       "2018-12-27          0.440277      0         17        13                80   \n",
       "2018-12-28         -0.578550      0         17        13                80   \n",
       "2018-12-29         -0.578550      0         16        12                80   \n",
       "2018-12-30          0.322479      0         19        14                50   \n",
       "2018-12-31          0.440277      0         26        19                50   \n",
       "\n",
       "            dayofweek  quarter  month  year  dayofyear  dayofmonth  weekofyear  \n",
       "just_date                                                                       \n",
       "2016-02-28          6        1      2  2016         59          28           8  \n",
       "2016-02-29          0        1      2  2016         60          29           9  \n",
       "2016-03-01          1        1      3  2016         61           1           9  \n",
       "2016-03-02          2        1      3  2016         62           2           9  \n",
       "2016-03-03          3        1      3  2016         63           3           9  \n",
       "...               ...      ...    ...   ...        ...         ...         ...  \n",
       "2018-12-27          3        4     12  2018        361          27          52  \n",
       "2018-12-28          4        4     12  2018        362          28          52  \n",
       "2018-12-29          5        4     12  2018        363          29          52  \n",
       "2018-12-30          6        4     12  2018        364          30          52  \n",
       "2018-12-31          0        4     12  2018        365          31           1  \n",
       "\n",
       "[1038 rows x 12 columns]"
      ]
     },
     "execution_count": 104,
     "metadata": {},
     "output_type": "execute_result"
    }
   ],
   "source": [
    "create_features(df_with_predictors)"
   ]
  },
  {
   "cell_type": "markdown",
   "id": "34d50f91",
   "metadata": {},
   "source": [
    "<h1 style='color:red'>Тепер виникло питання, що мені зробити далі?</h1>\n",
    "\n",
    "\n",
    "* Таким же чином трансформувати інші змінні, чи залишити як є\n",
    "* Чи провести їх глибокий аналіз, і що б потрібно було зробити?"
   ]
  },
  {
   "cell_type": "code",
   "execution_count": 105,
   "id": "1ea42394",
   "metadata": {},
   "outputs": [],
   "source": []
  },
  {
   "cell_type": "code",
   "execution_count": null,
   "id": "267088df",
   "metadata": {},
   "outputs": [],
   "source": []
  }
 ],
 "metadata": {
  "kernelspec": {
   "display_name": "Python 3 (ipykernel)",
   "language": "python",
   "name": "python3"
  },
  "language_info": {
   "codemirror_mode": {
    "name": "ipython",
    "version": 3
   },
   "file_extension": ".py",
   "mimetype": "text/x-python",
   "name": "python",
   "nbconvert_exporter": "python",
   "pygments_lexer": "ipython3",
   "version": "3.10.5"
  }
 },
 "nbformat": 4,
 "nbformat_minor": 5
}
